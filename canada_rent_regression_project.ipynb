{
 "cells": [
  {
   "cell_type": "code",
   "execution_count": 42,
   "id": "6cbf15e7",
   "metadata": {},
   "outputs": [
    {
     "data": {
      "text/html": [
       "<div>\n",
       "<style scoped>\n",
       "    .dataframe tbody tr th:only-of-type {\n",
       "        vertical-align: middle;\n",
       "    }\n",
       "\n",
       "    .dataframe tbody tr th {\n",
       "        vertical-align: top;\n",
       "    }\n",
       "\n",
       "    .dataframe thead th {\n",
       "        text-align: right;\n",
       "    }\n",
       "</style>\n",
       "<table border=\"1\" class=\"dataframe\">\n",
       "  <thead>\n",
       "    <tr style=\"text-align: right;\">\n",
       "      <th></th>\n",
       "      <th>rentfaster_id</th>\n",
       "      <th>city</th>\n",
       "      <th>province</th>\n",
       "      <th>address</th>\n",
       "      <th>latitude</th>\n",
       "      <th>longitude</th>\n",
       "      <th>lease_term</th>\n",
       "      <th>type</th>\n",
       "      <th>price</th>\n",
       "      <th>beds</th>\n",
       "      <th>baths</th>\n",
       "      <th>sq_feet</th>\n",
       "      <th>link</th>\n",
       "      <th>furnishing</th>\n",
       "      <th>availability_date</th>\n",
       "      <th>smoking</th>\n",
       "      <th>cats</th>\n",
       "      <th>dogs</th>\n",
       "    </tr>\n",
       "  </thead>\n",
       "  <tbody>\n",
       "    <tr>\n",
       "      <th>0</th>\n",
       "      <td>468622</td>\n",
       "      <td>Airdrie</td>\n",
       "      <td>Alberta</td>\n",
       "      <td>69 Gateway Dr NE</td>\n",
       "      <td>51.305962</td>\n",
       "      <td>-114.012515</td>\n",
       "      <td>Long Term</td>\n",
       "      <td>Townhouse</td>\n",
       "      <td>2495.0</td>\n",
       "      <td>2 Beds</td>\n",
       "      <td>2.5</td>\n",
       "      <td>1403</td>\n",
       "      <td>/ab/airdrie/rentals/townhouse/2-bedrooms/pet-f...</td>\n",
       "      <td>Unfurnished</td>\n",
       "      <td>Immediate</td>\n",
       "      <td>Non-Smoking</td>\n",
       "      <td>True</td>\n",
       "      <td>True</td>\n",
       "    </tr>\n",
       "    <tr>\n",
       "      <th>1</th>\n",
       "      <td>468622</td>\n",
       "      <td>Airdrie</td>\n",
       "      <td>Alberta</td>\n",
       "      <td>69 Gateway Dr NE</td>\n",
       "      <td>51.305962</td>\n",
       "      <td>-114.012515</td>\n",
       "      <td>Long Term</td>\n",
       "      <td>Townhouse</td>\n",
       "      <td>2695.0</td>\n",
       "      <td>3 Beds</td>\n",
       "      <td>2.5</td>\n",
       "      <td>1496</td>\n",
       "      <td>/ab/airdrie/rentals/townhouse/2-bedrooms/pet-f...</td>\n",
       "      <td>Unfurnished</td>\n",
       "      <td>Immediate</td>\n",
       "      <td>Non-Smoking</td>\n",
       "      <td>True</td>\n",
       "      <td>True</td>\n",
       "    </tr>\n",
       "    <tr>\n",
       "      <th>2</th>\n",
       "      <td>468622</td>\n",
       "      <td>Airdrie</td>\n",
       "      <td>Alberta</td>\n",
       "      <td>69 Gateway Dr NE</td>\n",
       "      <td>51.305962</td>\n",
       "      <td>-114.012515</td>\n",
       "      <td>Long Term</td>\n",
       "      <td>Townhouse</td>\n",
       "      <td>2295.0</td>\n",
       "      <td>2 Beds</td>\n",
       "      <td>2.5</td>\n",
       "      <td>1180</td>\n",
       "      <td>/ab/airdrie/rentals/townhouse/2-bedrooms/pet-f...</td>\n",
       "      <td>Unfurnished</td>\n",
       "      <td>Immediate</td>\n",
       "      <td>Non-Smoking</td>\n",
       "      <td>True</td>\n",
       "      <td>True</td>\n",
       "    </tr>\n",
       "    <tr>\n",
       "      <th>3</th>\n",
       "      <td>468622</td>\n",
       "      <td>Airdrie</td>\n",
       "      <td>Alberta</td>\n",
       "      <td>69 Gateway Dr NE</td>\n",
       "      <td>51.305962</td>\n",
       "      <td>-114.012515</td>\n",
       "      <td>Long Term</td>\n",
       "      <td>Townhouse</td>\n",
       "      <td>2095.0</td>\n",
       "      <td>2 Beds</td>\n",
       "      <td>2.5</td>\n",
       "      <td>1403</td>\n",
       "      <td>/ab/airdrie/rentals/townhouse/2-bedrooms/pet-f...</td>\n",
       "      <td>Unfurnished</td>\n",
       "      <td>November 18</td>\n",
       "      <td>Non-Smoking</td>\n",
       "      <td>True</td>\n",
       "      <td>True</td>\n",
       "    </tr>\n",
       "    <tr>\n",
       "      <th>4</th>\n",
       "      <td>468622</td>\n",
       "      <td>Airdrie</td>\n",
       "      <td>Alberta</td>\n",
       "      <td>69 Gateway Dr NE</td>\n",
       "      <td>51.305962</td>\n",
       "      <td>-114.012515</td>\n",
       "      <td>Long Term</td>\n",
       "      <td>Townhouse</td>\n",
       "      <td>2495.0</td>\n",
       "      <td>2 Beds</td>\n",
       "      <td>2.5</td>\n",
       "      <td>1403</td>\n",
       "      <td>/ab/airdrie/rentals/townhouse/2-bedrooms/pet-f...</td>\n",
       "      <td>Unfurnished</td>\n",
       "      <td>Immediate</td>\n",
       "      <td>Non-Smoking</td>\n",
       "      <td>True</td>\n",
       "      <td>True</td>\n",
       "    </tr>\n",
       "  </tbody>\n",
       "</table>\n",
       "</div>"
      ],
      "text/plain": [
       "   rentfaster_id     city province           address   latitude   longitude  \\\n",
       "0         468622  Airdrie  Alberta  69 Gateway Dr NE  51.305962 -114.012515   \n",
       "1         468622  Airdrie  Alberta  69 Gateway Dr NE  51.305962 -114.012515   \n",
       "2         468622  Airdrie  Alberta  69 Gateway Dr NE  51.305962 -114.012515   \n",
       "3         468622  Airdrie  Alberta  69 Gateway Dr NE  51.305962 -114.012515   \n",
       "4         468622  Airdrie  Alberta  69 Gateway Dr NE  51.305962 -114.012515   \n",
       "\n",
       "  lease_term       type   price    beds baths sq_feet  \\\n",
       "0  Long Term  Townhouse  2495.0  2 Beds   2.5    1403   \n",
       "1  Long Term  Townhouse  2695.0  3 Beds   2.5    1496   \n",
       "2  Long Term  Townhouse  2295.0  2 Beds   2.5    1180   \n",
       "3  Long Term  Townhouse  2095.0  2 Beds   2.5    1403   \n",
       "4  Long Term  Townhouse  2495.0  2 Beds   2.5    1403   \n",
       "\n",
       "                                                link   furnishing  \\\n",
       "0  /ab/airdrie/rentals/townhouse/2-bedrooms/pet-f...  Unfurnished   \n",
       "1  /ab/airdrie/rentals/townhouse/2-bedrooms/pet-f...  Unfurnished   \n",
       "2  /ab/airdrie/rentals/townhouse/2-bedrooms/pet-f...  Unfurnished   \n",
       "3  /ab/airdrie/rentals/townhouse/2-bedrooms/pet-f...  Unfurnished   \n",
       "4  /ab/airdrie/rentals/townhouse/2-bedrooms/pet-f...  Unfurnished   \n",
       "\n",
       "  availability_date      smoking  cats  dogs  \n",
       "0         Immediate  Non-Smoking  True  True  \n",
       "1         Immediate  Non-Smoking  True  True  \n",
       "2         Immediate  Non-Smoking  True  True  \n",
       "3       November 18  Non-Smoking  True  True  \n",
       "4         Immediate  Non-Smoking  True  True  "
      ]
     },
     "execution_count": 42,
     "metadata": {},
     "output_type": "execute_result"
    }
   ],
   "source": [
    "# loading related packaes\n",
    "import pandas as pd\n",
    "import numpy as np\n",
    "import seaborn as sns\n",
    "import matplotlib.pyplot as plt\n",
    "\n",
    "# loading related dataset\n",
    "rent = pd.read_csv('../Data/canada_rent.csv')\n",
    "\n",
    "# Displaying the first five rows of the dataset\n",
    "rent.head()"
   ]
  },
  {
   "cell_type": "code",
   "execution_count": 43,
   "id": "dd2e21ed",
   "metadata": {},
   "outputs": [
    {
     "name": "stdout",
     "output_type": "stream",
     "text": [
      "<class 'pandas.core.frame.DataFrame'>\n",
      "RangeIndex: 25771 entries, 0 to 25770\n",
      "Data columns (total 18 columns):\n",
      " #   Column             Non-Null Count  Dtype  \n",
      "---  ------             --------------  -----  \n",
      " 0   rentfaster_id      25771 non-null  int64  \n",
      " 1   city               25771 non-null  object \n",
      " 2   province           25771 non-null  object \n",
      " 3   address            25646 non-null  object \n",
      " 4   latitude           25771 non-null  float64\n",
      " 5   longitude          25771 non-null  float64\n",
      " 6   lease_term         25725 non-null  object \n",
      " 7   type               25771 non-null  object \n",
      " 8   price              25771 non-null  float64\n",
      " 9   beds               25639 non-null  object \n",
      " 10  baths              25637 non-null  object \n",
      " 11  sq_feet            21659 non-null  object \n",
      " 12  link               25771 non-null  object \n",
      " 13  furnishing         25771 non-null  object \n",
      " 14  availability_date  25759 non-null  object \n",
      " 15  smoking            23069 non-null  object \n",
      " 16  cats               25598 non-null  object \n",
      " 17  dogs               25598 non-null  object \n",
      "dtypes: float64(3), int64(1), object(14)\n",
      "memory usage: 3.5+ MB\n"
     ]
    }
   ],
   "source": [
    "rent.info()"
   ]
  },
  {
   "cell_type": "markdown",
   "id": "66a2fc86",
   "metadata": {},
   "source": [
    "#### Running info() is providing the structure of the dataset, i.e. a summary of it, including the data types of each column, the number of non-null entries etc\n",
    "#### There are 18 columns: 4 columns in numerical format (float64(3) + int64(1)) and 14 columns in categorical format (object(14))  \n",
    "#### There are 25,771 entries (rows)"
   ]
  },
  {
   "cell_type": "code",
   "execution_count": 44,
   "id": "5867898b",
   "metadata": {},
   "outputs": [
    {
     "data": {
      "text/plain": [
       "rentfaster_id           0\n",
       "city                    0\n",
       "province                0\n",
       "address               125\n",
       "latitude                0\n",
       "longitude               0\n",
       "lease_term             46\n",
       "type                    0\n",
       "price                   0\n",
       "beds                  132\n",
       "baths                 134\n",
       "sq_feet              4112\n",
       "link                    0\n",
       "furnishing              0\n",
       "availability_date      12\n",
       "smoking              2702\n",
       "cats                  173\n",
       "dogs                  173\n",
       "dtype: int64"
      ]
     },
     "execution_count": 44,
     "metadata": {},
     "output_type": "execute_result"
    }
   ],
   "source": [
    "# Find missing values\n",
    "rent.isnull().sum()"
   ]
  },
  {
   "cell_type": "code",
   "execution_count": 46,
   "id": "76b57c7d",
   "metadata": {},
   "outputs": [],
   "source": [
    "# Clean missing values\n",
    "rent=rent.dropna()"
   ]
  },
  {
   "cell_type": "code",
   "execution_count": 48,
   "id": "5fb404f2",
   "metadata": {
    "scrolled": true
   },
   "outputs": [
    {
     "data": {
      "text/plain": [
       "link                 7195\n",
       "rentfaster_id        7194\n",
       "longitude            6715\n",
       "latitude             6708\n",
       "address              6113\n",
       "price                2220\n",
       "sq_feet              1811\n",
       "city                  224\n",
       "availability_date     119\n",
       "baths                  16\n",
       "type                   12\n",
       "beds                   10\n",
       "province               10\n",
       "lease_term              6\n",
       "furnishing              4\n",
       "smoking                 4\n",
       "cats                    2\n",
       "dogs                    2\n",
       "dtype: int64"
      ]
     },
     "execution_count": 48,
     "metadata": {},
     "output_type": "execute_result"
    }
   ],
   "source": [
    "# Check each columns' unique values\n",
    "rent.nunique().sort_values(ascending=False)"
   ]
  },
  {
   "cell_type": "markdown",
   "id": "5e7caf4d",
   "metadata": {},
   "source": [
    "#### I look at the unique values of each column to see which columns might be useful. Some columns have too many unique values. In order to get clean and usable data, some columns need to be dropped. In my example, the columns with too many unique values (those with 3 digit numbers) are dropped.\n"
   ]
  },
  {
   "cell_type": "code",
   "execution_count": 49,
   "id": "60f130a1",
   "metadata": {},
   "outputs": [],
   "source": [
    "rent = rent[['price', 'type','beds','province','lease_term','furnishing','smoking','cats', 'dogs']]"
   ]
  },
  {
   "cell_type": "markdown",
   "id": "5a9bbc17",
   "metadata": {},
   "source": [
    "#### Visualitation between \"price\" and other columns"
   ]
  },
  {
   "cell_type": "code",
   "execution_count": 53,
   "id": "0e5c013d",
   "metadata": {},
   "outputs": [
    {
     "data": {
      "image/png": "[encoded data removed]",
      "text/plain": [
       "<Figure size 1200x400 with 2 Axes>"
      ]
     },
     "metadata": {},
     "output_type": "display_data"
    },
    {
     "data": {
      "image/png": "[encoded data removed]",
      "text/plain": [
       "<Figure size 1200x400 with 2 Axes>"
      ]
     },
     "metadata": {},
     "output_type": "display_data"
    },
    {
     "data": {
      "image/png": "[encoded data removed]",
      "text/plain": [
       "<Figure size 1200x400 with 2 Axes>"
      ]
     },
     "metadata": {},
     "output_type": "display_data"
    },
    {
     "data": {
      "image/png": "[encoded data removed]",
      "text/plain": [
       "<Figure size 1200x400 with 2 Axes>"
      ]
     },
     "metadata": {},
     "output_type": "display_data"
    }
   ],
   "source": [
    "sns.set(style=\"darkgrid\")\n",
    "\n",
    "# Create a figure with 1 row and 2 columns for subplots\n",
    "fig, axs = plt.subplots(1, 2, figsize=(12, 4))  # Adjust figsize for a better layout\n",
    "\n",
    "axs[0].scatter(rent['type'], rent['price'], color='blue')\n",
    "axs[0].set_xlabel(\"Kind of Type\", fontsize=12)\n",
    "axs[0].set_ylabel(\"Price\", fontsize=12)\n",
    "axs[0].set_title(\"Type vs. Price\", fontsize=14)\n",
    "axs[0].grid(True)\n",
    "axs[0].tick_params(axis='x', labelsize=10, rotation=45)\n",
    "\n",
    "axs[1].scatter(rent['beds'], rent['price'], color='orange')\n",
    "axs[1].set_xlabel(\"Kind of Beds\", fontsize=12)\n",
    "axs[1].set_ylabel(\"Price\", fontsize=12)\n",
    "axs[1].set_title(\"Beds vs. Price\", fontsize=14)\n",
    "axs[1].grid(True)\n",
    "axs[1].tick_params(axis='x', labelsize=10)\n",
    "\n",
    "plt.tight_layout();\n",
    "\n",
    "fig, axs = plt.subplots(1, 2, figsize=(12, 4))  # Adjust figsize for a better layout\n",
    "\n",
    "axs[0].scatter(rent['province'], rent['price'], color='red')\n",
    "axs[0].set_xlabel(\"Kind of Province\", fontsize=12)\n",
    "axs[0].set_ylabel(\"Price\", fontsize=12)\n",
    "axs[0].set_title(\"Province vs. Price\", fontsize=14)\n",
    "axs[0].grid(True)\n",
    "axs[0].tick_params(axis='x', labelsize=10, rotation=45)\n",
    "\n",
    "axs[1].scatter(rent['lease_term'], rent['price'], color='black')\n",
    "axs[1].set_xlabel(\"Kind of Lease term\", fontsize=12)\n",
    "axs[1].set_ylabel(\"Price\", fontsize=12)\n",
    "axs[1].set_title(\"Lease term vs. Price\", fontsize=14)\n",
    "axs[1].grid(True)\n",
    "axs[1].tick_params(axis='x', labelsize=10)\n",
    "\n",
    "plt.tight_layout();\n",
    "\n",
    "fig, axs = plt.subplots(1, 2, figsize=(12, 4))  # Adjust figsize for a better layout\n",
    "\n",
    "axs[0].scatter(rent['furnishing'], rent['price'], color='purple')\n",
    "axs[0].set_xlabel(\"Kind of Furnishing\", fontsize=12)\n",
    "axs[0].set_ylabel(\"Price\", fontsize=12)\n",
    "axs[0].set_title(\"Furnishing vs. Price\", fontsize=14)\n",
    "axs[0].grid(True)\n",
    "axs[0].tick_params(axis='x', labelsize=10)\n",
    "\n",
    "axs[1].scatter(rent['smoking'], rent['price'], color='lightblue')\n",
    "axs[1].set_xlabel(\"Kind of Smoking\", fontsize=12)\n",
    "axs[1].set_ylabel(\"Price\", fontsize=12)\n",
    "axs[1].set_title(\"Smoking vs. Price\", fontsize=14)\n",
    "axs[1].grid(True)\n",
    "axs[1].tick_params(axis='x', labelsize=10)\n",
    "\n",
    "plt.tight_layout();\n",
    "\n",
    "plt.figure(figsize=(12, 4))\n",
    "\n",
    "plt.subplot(1, 2, 1)\n",
    "sns.scatterplot(data=rent, x='cats', y='price',color='yellow')\n",
    "plt.title('Cats vs Price')\n",
    "plt.xticks([0, 1], ['False', 'True'])\n",
    "\n",
    "plt.subplot(1, 2, 2)\n",
    "sns.scatterplot(data=rent, x='dogs', y='price',color='green')\n",
    "plt.title('Dogs vs Price')\n",
    "plt.xticks([0, 1], ['False', 'True'])\n",
    "\n",
    "plt.tight_layout();\n"
   ]
  },
  {
   "cell_type": "markdown",
   "id": "5a8ca8a3",
   "metadata": {},
   "source": [
    "### Linear Regression Model"
   ]
  },
  {
   "cell_type": "code",
   "execution_count": 7,
   "id": "63d01acd",
   "metadata": {},
   "outputs": [
    {
     "data": {
      "text/html": [
       "<div>\n",
       "<style scoped>\n",
       "    .dataframe tbody tr th:only-of-type {\n",
       "        vertical-align: middle;\n",
       "    }\n",
       "\n",
       "    .dataframe tbody tr th {\n",
       "        vertical-align: top;\n",
       "    }\n",
       "\n",
       "    .dataframe thead th {\n",
       "        text-align: right;\n",
       "    }\n",
       "</style>\n",
       "<table border=\"1\" class=\"dataframe\">\n",
       "  <thead>\n",
       "    <tr style=\"text-align: right;\">\n",
       "      <th></th>\n",
       "      <th>price</th>\n",
       "      <th>type_Apartment</th>\n",
       "      <th>type_Basement</th>\n",
       "      <th>type_Condo Unit</th>\n",
       "      <th>type_Duplex</th>\n",
       "      <th>type_House</th>\n",
       "      <th>type_Loft</th>\n",
       "      <th>type_Main Floor</th>\n",
       "      <th>type_Mobile</th>\n",
       "      <th>type_Room For Rent</th>\n",
       "      <th>...</th>\n",
       "      <th>lease_term_Short Term</th>\n",
       "      <th>lease_term_months</th>\n",
       "      <th>furnishing_Negotiable</th>\n",
       "      <th>furnishing_Unfurnished</th>\n",
       "      <th>furnishing_Unfurnished, Negotiable</th>\n",
       "      <th>smoking_Non-Smoking</th>\n",
       "      <th>smoking_Smoke Free Building</th>\n",
       "      <th>smoking_Smoking Allowed</th>\n",
       "      <th>cats_True</th>\n",
       "      <th>dogs_True</th>\n",
       "    </tr>\n",
       "  </thead>\n",
       "  <tbody>\n",
       "    <tr>\n",
       "      <th>0</th>\n",
       "      <td>2495</td>\n",
       "      <td>0</td>\n",
       "      <td>0</td>\n",
       "      <td>0</td>\n",
       "      <td>0</td>\n",
       "      <td>0</td>\n",
       "      <td>0</td>\n",
       "      <td>0</td>\n",
       "      <td>0</td>\n",
       "      <td>0</td>\n",
       "      <td>...</td>\n",
       "      <td>0</td>\n",
       "      <td>0</td>\n",
       "      <td>0</td>\n",
       "      <td>1</td>\n",
       "      <td>0</td>\n",
       "      <td>1</td>\n",
       "      <td>0</td>\n",
       "      <td>0</td>\n",
       "      <td>1</td>\n",
       "      <td>1</td>\n",
       "    </tr>\n",
       "    <tr>\n",
       "      <th>1</th>\n",
       "      <td>2695</td>\n",
       "      <td>0</td>\n",
       "      <td>0</td>\n",
       "      <td>0</td>\n",
       "      <td>0</td>\n",
       "      <td>0</td>\n",
       "      <td>0</td>\n",
       "      <td>0</td>\n",
       "      <td>0</td>\n",
       "      <td>0</td>\n",
       "      <td>...</td>\n",
       "      <td>0</td>\n",
       "      <td>0</td>\n",
       "      <td>0</td>\n",
       "      <td>1</td>\n",
       "      <td>0</td>\n",
       "      <td>1</td>\n",
       "      <td>0</td>\n",
       "      <td>0</td>\n",
       "      <td>1</td>\n",
       "      <td>1</td>\n",
       "    </tr>\n",
       "    <tr>\n",
       "      <th>2</th>\n",
       "      <td>2295</td>\n",
       "      <td>0</td>\n",
       "      <td>0</td>\n",
       "      <td>0</td>\n",
       "      <td>0</td>\n",
       "      <td>0</td>\n",
       "      <td>0</td>\n",
       "      <td>0</td>\n",
       "      <td>0</td>\n",
       "      <td>0</td>\n",
       "      <td>...</td>\n",
       "      <td>0</td>\n",
       "      <td>0</td>\n",
       "      <td>0</td>\n",
       "      <td>1</td>\n",
       "      <td>0</td>\n",
       "      <td>1</td>\n",
       "      <td>0</td>\n",
       "      <td>0</td>\n",
       "      <td>1</td>\n",
       "      <td>1</td>\n",
       "    </tr>\n",
       "    <tr>\n",
       "      <th>3</th>\n",
       "      <td>2095</td>\n",
       "      <td>0</td>\n",
       "      <td>0</td>\n",
       "      <td>0</td>\n",
       "      <td>0</td>\n",
       "      <td>0</td>\n",
       "      <td>0</td>\n",
       "      <td>0</td>\n",
       "      <td>0</td>\n",
       "      <td>0</td>\n",
       "      <td>...</td>\n",
       "      <td>0</td>\n",
       "      <td>0</td>\n",
       "      <td>0</td>\n",
       "      <td>1</td>\n",
       "      <td>0</td>\n",
       "      <td>1</td>\n",
       "      <td>0</td>\n",
       "      <td>0</td>\n",
       "      <td>1</td>\n",
       "      <td>1</td>\n",
       "    </tr>\n",
       "    <tr>\n",
       "      <th>4</th>\n",
       "      <td>2495</td>\n",
       "      <td>0</td>\n",
       "      <td>0</td>\n",
       "      <td>0</td>\n",
       "      <td>0</td>\n",
       "      <td>0</td>\n",
       "      <td>0</td>\n",
       "      <td>0</td>\n",
       "      <td>0</td>\n",
       "      <td>0</td>\n",
       "      <td>...</td>\n",
       "      <td>0</td>\n",
       "      <td>0</td>\n",
       "      <td>0</td>\n",
       "      <td>1</td>\n",
       "      <td>0</td>\n",
       "      <td>1</td>\n",
       "      <td>0</td>\n",
       "      <td>0</td>\n",
       "      <td>1</td>\n",
       "      <td>1</td>\n",
       "    </tr>\n",
       "  </tbody>\n",
       "</table>\n",
       "<p>5 rows × 43 columns</p>\n",
       "</div>"
      ],
      "text/plain": [
       "   price  type_Apartment  type_Basement  type_Condo Unit  type_Duplex  \\\n",
       "0   2495               0              0                0            0   \n",
       "1   2695               0              0                0            0   \n",
       "2   2295               0              0                0            0   \n",
       "3   2095               0              0                0            0   \n",
       "4   2495               0              0                0            0   \n",
       "\n",
       "   type_House  type_Loft  type_Main Floor  type_Mobile  type_Room For Rent  \\\n",
       "0           0          0                0            0                   0   \n",
       "1           0          0                0            0                   0   \n",
       "2           0          0                0            0                   0   \n",
       "3           0          0                0            0                   0   \n",
       "4           0          0                0            0                   0   \n",
       "\n",
       "   ...  lease_term_Short Term  lease_term_months  furnishing_Negotiable  \\\n",
       "0  ...                      0                  0                      0   \n",
       "1  ...                      0                  0                      0   \n",
       "2  ...                      0                  0                      0   \n",
       "3  ...                      0                  0                      0   \n",
       "4  ...                      0                  0                      0   \n",
       "\n",
       "   furnishing_Unfurnished  furnishing_Unfurnished, Negotiable  \\\n",
       "0                       1                                   0   \n",
       "1                       1                                   0   \n",
       "2                       1                                   0   \n",
       "3                       1                                   0   \n",
       "4                       1                                   0   \n",
       "\n",
       "   smoking_Non-Smoking  smoking_Smoke Free Building  smoking_Smoking Allowed  \\\n",
       "0                    1                            0                        0   \n",
       "1                    1                            0                        0   \n",
       "2                    1                            0                        0   \n",
       "3                    1                            0                        0   \n",
       "4                    1                            0                        0   \n",
       "\n",
       "   cats_True  dogs_True  \n",
       "0          1          1  \n",
       "1          1          1  \n",
       "2          1          1  \n",
       "3          1          1  \n",
       "4          1          1  \n",
       "\n",
       "[5 rows x 43 columns]"
      ]
     },
     "execution_count": 7,
     "metadata": {},
     "output_type": "execute_result"
    }
   ],
   "source": [
    "# Transform the \"object\" format into \"numerical\" since machine learning algorithms and statistical models require \"numerical\".\n",
    "rent = pd.get_dummies(rent, drop_first=True)\n",
    "rent = rent.astype(int)\n",
    "\n",
    "rent.head()"
   ]
  },
  {
   "cell_type": "code",
   "execution_count": 22,
   "id": "bdb2a07c",
   "metadata": {},
   "outputs": [],
   "source": [
    "# Split data into features and target\n",
    "X = rent.drop('price', axis=1)\n",
    "y = rent['price']"
   ]
  },
  {
   "cell_type": "code",
   "execution_count": 23,
   "id": "71db3dba",
   "metadata": {},
   "outputs": [
    {
     "data": {
      "text/plain": [
       "((17403, 42), (1934, 42), (17403,), (1934,))"
      ]
     },
     "execution_count": 23,
     "metadata": {},
     "output_type": "execute_result"
    }
   ],
   "source": [
    "# Split into training and testing sets\n",
    "from sklearn.model_selection import train_test_split\n",
    "X_train, X_test, y_train, y_test = train_test_split(X, y, test_size=0.1, random_state=1)\n",
    "\n",
    "X_train.shape, X_test.shape, y_train.shape, y_test.shape"
   ]
  },
  {
   "cell_type": "code",
   "execution_count": 24,
   "id": "50f8c800",
   "metadata": {},
   "outputs": [
    {
     "data": {
      "text/plain": [
       "((17403, 42), (1934, 42), (17403,), (1934,))"
      ]
     },
     "execution_count": 24,
     "metadata": {},
     "output_type": "execute_result"
    }
   ],
   "source": [
    "# Split into training and testing sets\n",
    "from sklearn.model_selection import train_test_split\n",
    "X_train, X_test, y_train, y_test = train_test_split(X, y, test_size=0.1, random_state=1)\n",
    "\n",
    "X_train.shape, X_test.shape, y_train.shape, y_test.shape"
   ]
  },
  {
   "cell_type": "code",
   "execution_count": 25,
   "id": "c15fee35",
   "metadata": {},
   "outputs": [
    {
     "data": {
      "text/html": [
       "<style>#sk-container-id-2 {color: black;}#sk-container-id-2 pre{padding: 0;}#sk-container-id-2 div.sk-toggleable {background-color: white;}#sk-container-id-2 label.sk-toggleable__label {cursor: pointer;display: block;width: 100%;margin-bottom: 0;padding: 0.3em;box-sizing: border-box;text-align: center;}#sk-container-id-2 label.sk-toggleable__label-arrow:before {content: \"▸\";float: left;margin-right: 0.25em;color: #696969;}#sk-container-id-2 label.sk-toggleable__label-arrow:hover:before {color: black;}#sk-container-id-2 div.sk-estimator:hover label.sk-toggleable__label-arrow:before {color: black;}#sk-container-id-2 div.sk-toggleable__content {max-height: 0;max-width: 0;overflow: hidden;text-align: left;background-color: #f0f8ff;}#sk-container-id-2 div.sk-toggleable__content pre {margin: 0.2em;color: black;border-radius: 0.25em;background-color: #f0f8ff;}#sk-container-id-2 input.sk-toggleable__control:checked~div.sk-toggleable__content {max-height: 200px;max-width: 100%;overflow: auto;}#sk-container-id-2 input.sk-toggleable__control:checked~label.sk-toggleable__label-arrow:before {content: \"▾\";}#sk-container-id-2 div.sk-estimator input.sk-toggleable__control:checked~label.sk-toggleable__label {background-color: #d4ebff;}#sk-container-id-2 div.sk-label input.sk-toggleable__control:checked~label.sk-toggleable__label {background-color: #d4ebff;}#sk-container-id-2 input.sk-hidden--visually {border: 0;clip: rect(1px 1px 1px 1px);clip: rect(1px, 1px, 1px, 1px);height: 1px;margin: -1px;overflow: hidden;padding: 0;position: absolute;width: 1px;}#sk-container-id-2 div.sk-estimator {font-family: monospace;background-color: #f0f8ff;border: 1px dotted black;border-radius: 0.25em;box-sizing: border-box;margin-bottom: 0.5em;}#sk-container-id-2 div.sk-estimator:hover {background-color: #d4ebff;}#sk-container-id-2 div.sk-parallel-item::after {content: \"\";width: 100%;border-bottom: 1px solid gray;flex-grow: 1;}#sk-container-id-2 div.sk-label:hover label.sk-toggleable__label {background-color: #d4ebff;}#sk-container-id-2 div.sk-serial::before {content: \"\";position: absolute;border-left: 1px solid gray;box-sizing: border-box;top: 0;bottom: 0;left: 50%;z-index: 0;}#sk-container-id-2 div.sk-serial {display: flex;flex-direction: column;align-items: center;background-color: white;padding-right: 0.2em;padding-left: 0.2em;position: relative;}#sk-container-id-2 div.sk-item {position: relative;z-index: 1;}#sk-container-id-2 div.sk-parallel {display: flex;align-items: stretch;justify-content: center;background-color: white;position: relative;}#sk-container-id-2 div.sk-item::before, #sk-container-id-2 div.sk-parallel-item::before {content: \"\";position: absolute;border-left: 1px solid gray;box-sizing: border-box;top: 0;bottom: 0;left: 50%;z-index: -1;}#sk-container-id-2 div.sk-parallel-item {display: flex;flex-direction: column;z-index: 1;position: relative;background-color: white;}#sk-container-id-2 div.sk-parallel-item:first-child::after {align-self: flex-end;width: 50%;}#sk-container-id-2 div.sk-parallel-item:last-child::after {align-self: flex-start;width: 50%;}#sk-container-id-2 div.sk-parallel-item:only-child::after {width: 0;}#sk-container-id-2 div.sk-dashed-wrapped {border: 1px dashed gray;margin: 0 0.4em 0.5em 0.4em;box-sizing: border-box;padding-bottom: 0.4em;background-color: white;}#sk-container-id-2 div.sk-label label {font-family: monospace;font-weight: bold;display: inline-block;line-height: 1.2em;}#sk-container-id-2 div.sk-label-container {text-align: center;}#sk-container-id-2 div.sk-container {/* jupyter's `normalize.less` sets `[hidden] { display: none; }` but bootstrap.min.css set `[hidden] { display: none !important; }` so we also need the `!important` here to be able to override the default hidden behavior on the sphinx rendered scikit-learn.org. See: https://github.com/scikit-learn/scikit-learn/issues/21755 */display: inline-block !important;position: relative;}#sk-container-id-2 div.sk-text-repr-fallback {display: none;}</style><div id=\"sk-container-id-2\" class=\"sk-top-container\"><div class=\"sk-text-repr-fallback\"><pre>LinearRegression()</pre><b>In a Jupyter environment, please rerun this cell to show the HTML representation or trust the notebook. <br />On GitHub, the HTML representation is unable to render, please try loading this page with nbviewer.org.</b></div><div class=\"sk-container\" hidden><div class=\"sk-item\"><div class=\"sk-estimator sk-toggleable\"><input class=\"sk-toggleable__control sk-hidden--visually\" id=\"sk-estimator-id-2\" type=\"checkbox\" checked><label for=\"sk-estimator-id-2\" class=\"sk-toggleable__label sk-toggleable__label-arrow\">LinearRegression</label><div class=\"sk-toggleable__content\"><pre>LinearRegression()</pre></div></div></div></div></div>"
      ],
      "text/plain": [
       "LinearRegression()"
      ]
     },
     "execution_count": 25,
     "metadata": {},
     "output_type": "execute_result"
    }
   ],
   "source": [
    "from sklearn.linear_model import LinearRegression\n",
    "\n",
    "model = LinearRegression()\n",
    "\n",
    "model.fit(X_train, y_train)"
   ]
  },
  {
   "cell_type": "code",
   "execution_count": 26,
   "id": "db99c419",
   "metadata": {},
   "outputs": [
    {
     "name": "stdout",
     "output_type": "stream",
     "text": [
      "Linear Regression MAE: 436.23293569451295\n",
      "Linear Regression MSE: 858404.4498609235\n",
      "Linear Regression RMSE: 926.501187188081\n",
      "Linear Regression R^2: 0.3722021787961859\n"
     ]
    }
   ],
   "source": [
    "from sklearn.metrics import mean_absolute_error, mean_squared_error, r2_score\n",
    "\n",
    "y_pred = model.predict(X_test)\n",
    "\n",
    "mae = mean_absolute_error(y_test, y_pred)\n",
    "mse = mean_squared_error(y_test, y_pred)\n",
    "rmse = np.sqrt(mse)\n",
    "r2 = r2_score(y_test, y_pred)\n",
    "print(f\"Linear Regression MAE: {mae}\")\n",
    "print(f\"Linear Regression MSE: {mse}\")\n",
    "print(f\"Linear Regression RMSE: {rmse}\")\n",
    "print(f\"Linear Regression R^2: {r2}\")"
   ]
  },
  {
   "cell_type": "code",
   "execution_count": 27,
   "id": "7ef2cb33",
   "metadata": {},
   "outputs": [
    {
     "data": {
      "text/html": [
       "<div>\n",
       "<style scoped>\n",
       "    .dataframe tbody tr th:only-of-type {\n",
       "        vertical-align: middle;\n",
       "    }\n",
       "\n",
       "    .dataframe tbody tr th {\n",
       "        vertical-align: top;\n",
       "    }\n",
       "\n",
       "    .dataframe thead th {\n",
       "        text-align: right;\n",
       "    }\n",
       "</style>\n",
       "<table border=\"1\" class=\"dataframe\">\n",
       "  <thead>\n",
       "    <tr style=\"text-align: right;\">\n",
       "      <th></th>\n",
       "      <th>price</th>\n",
       "    </tr>\n",
       "  </thead>\n",
       "  <tbody>\n",
       "    <tr>\n",
       "      <th>type_Apartment</th>\n",
       "      <td>-1710.362524</td>\n",
       "    </tr>\n",
       "    <tr>\n",
       "      <th>type_Basement</th>\n",
       "      <td>-2180.750985</td>\n",
       "    </tr>\n",
       "    <tr>\n",
       "      <th>type_Condo Unit</th>\n",
       "      <td>-1529.506432</td>\n",
       "    </tr>\n",
       "    <tr>\n",
       "      <th>type_Duplex</th>\n",
       "      <td>-1769.540407</td>\n",
       "    </tr>\n",
       "    <tr>\n",
       "      <th>type_House</th>\n",
       "      <td>-1334.049894</td>\n",
       "    </tr>\n",
       "    <tr>\n",
       "      <th>type_Loft</th>\n",
       "      <td>-1618.470477</td>\n",
       "    </tr>\n",
       "    <tr>\n",
       "      <th>type_Main Floor</th>\n",
       "      <td>-1940.944972</td>\n",
       "    </tr>\n",
       "    <tr>\n",
       "      <th>type_Mobile</th>\n",
       "      <td>-2416.999264</td>\n",
       "    </tr>\n",
       "    <tr>\n",
       "      <th>type_Room For Rent</th>\n",
       "      <td>-3368.109713</td>\n",
       "    </tr>\n",
       "    <tr>\n",
       "      <th>type_Townhouse</th>\n",
       "      <td>-1665.345205</td>\n",
       "    </tr>\n",
       "    <tr>\n",
       "      <th>type_Vacation Home</th>\n",
       "      <td>-569.074267</td>\n",
       "    </tr>\n",
       "    <tr>\n",
       "      <th>beds_2 Beds</th>\n",
       "      <td>455.701499</td>\n",
       "    </tr>\n",
       "    <tr>\n",
       "      <th>beds_3 Beds</th>\n",
       "      <td>830.002871</td>\n",
       "    </tr>\n",
       "    <tr>\n",
       "      <th>beds_4 Beds</th>\n",
       "      <td>1243.929548</td>\n",
       "    </tr>\n",
       "    <tr>\n",
       "      <th>beds_5 Beds</th>\n",
       "      <td>1463.021894</td>\n",
       "    </tr>\n",
       "    <tr>\n",
       "      <th>beds_6 Beds</th>\n",
       "      <td>1272.633578</td>\n",
       "    </tr>\n",
       "    <tr>\n",
       "      <th>beds_7 Beds</th>\n",
       "      <td>2775.002604</td>\n",
       "    </tr>\n",
       "    <tr>\n",
       "      <th>beds_8 Beds</th>\n",
       "      <td>17486.323725</td>\n",
       "    </tr>\n",
       "    <tr>\n",
       "      <th>beds_9 Beds</th>\n",
       "      <td>94.941137</td>\n",
       "    </tr>\n",
       "    <tr>\n",
       "      <th>beds_Studio</th>\n",
       "      <td>-565.968885</td>\n",
       "    </tr>\n",
       "    <tr>\n",
       "      <th>province_British Columbia</th>\n",
       "      <td>619.379081</td>\n",
       "    </tr>\n",
       "    <tr>\n",
       "      <th>province_Manitoba</th>\n",
       "      <td>-205.612814</td>\n",
       "    </tr>\n",
       "    <tr>\n",
       "      <th>province_New Brunswick</th>\n",
       "      <td>-174.487831</td>\n",
       "    </tr>\n",
       "    <tr>\n",
       "      <th>province_Newfoundland and Labrador</th>\n",
       "      <td>-660.729166</td>\n",
       "    </tr>\n",
       "    <tr>\n",
       "      <th>province_Northwest Territories</th>\n",
       "      <td>-184.858243</td>\n",
       "    </tr>\n",
       "    <tr>\n",
       "      <th>province_Nova Scotia</th>\n",
       "      <td>789.421022</td>\n",
       "    </tr>\n",
       "    <tr>\n",
       "      <th>province_Ontario</th>\n",
       "      <td>475.724298</td>\n",
       "    </tr>\n",
       "    <tr>\n",
       "      <th>province_Quebec</th>\n",
       "      <td>341.402543</td>\n",
       "    </tr>\n",
       "    <tr>\n",
       "      <th>province_Saskatchewan</th>\n",
       "      <td>-557.462326</td>\n",
       "    </tr>\n",
       "    <tr>\n",
       "      <th>lease_term_6 months</th>\n",
       "      <td>-88.962279</td>\n",
       "    </tr>\n",
       "    <tr>\n",
       "      <th>lease_term_Long Term</th>\n",
       "      <td>-343.189217</td>\n",
       "    </tr>\n",
       "    <tr>\n",
       "      <th>lease_term_Negotiable</th>\n",
       "      <td>-165.181243</td>\n",
       "    </tr>\n",
       "    <tr>\n",
       "      <th>lease_term_Short Term</th>\n",
       "      <td>171.972724</td>\n",
       "    </tr>\n",
       "    <tr>\n",
       "      <th>lease_term_months</th>\n",
       "      <td>862.261041</td>\n",
       "    </tr>\n",
       "    <tr>\n",
       "      <th>furnishing_Negotiable</th>\n",
       "      <td>-232.962365</td>\n",
       "    </tr>\n",
       "    <tr>\n",
       "      <th>furnishing_Unfurnished</th>\n",
       "      <td>-499.011332</td>\n",
       "    </tr>\n",
       "    <tr>\n",
       "      <th>furnishing_Unfurnished, Negotiable</th>\n",
       "      <td>-734.449493</td>\n",
       "    </tr>\n",
       "    <tr>\n",
       "      <th>smoking_Non-Smoking</th>\n",
       "      <td>138.573681</td>\n",
       "    </tr>\n",
       "    <tr>\n",
       "      <th>smoking_Smoke Free Building</th>\n",
       "      <td>146.995280</td>\n",
       "    </tr>\n",
       "    <tr>\n",
       "      <th>smoking_Smoking Allowed</th>\n",
       "      <td>-74.138517</td>\n",
       "    </tr>\n",
       "    <tr>\n",
       "      <th>cats_True</th>\n",
       "      <td>-120.570737</td>\n",
       "    </tr>\n",
       "    <tr>\n",
       "      <th>dogs_True</th>\n",
       "      <td>195.471877</td>\n",
       "    </tr>\n",
       "  </tbody>\n",
       "</table>\n",
       "</div>"
      ],
      "text/plain": [
       "                                           price\n",
       "type_Apartment                      -1710.362524\n",
       "type_Basement                       -2180.750985\n",
       "type_Condo Unit                     -1529.506432\n",
       "type_Duplex                         -1769.540407\n",
       "type_House                          -1334.049894\n",
       "type_Loft                           -1618.470477\n",
       "type_Main Floor                     -1940.944972\n",
       "type_Mobile                         -2416.999264\n",
       "type_Room For Rent                  -3368.109713\n",
       "type_Townhouse                      -1665.345205\n",
       "type_Vacation Home                   -569.074267\n",
       "beds_2 Beds                           455.701499\n",
       "beds_3 Beds                           830.002871\n",
       "beds_4 Beds                          1243.929548\n",
       "beds_5 Beds                          1463.021894\n",
       "beds_6 Beds                          1272.633578\n",
       "beds_7 Beds                          2775.002604\n",
       "beds_8 Beds                         17486.323725\n",
       "beds_9 Beds                            94.941137\n",
       "beds_Studio                          -565.968885\n",
       "province_British Columbia             619.379081\n",
       "province_Manitoba                    -205.612814\n",
       "province_New Brunswick               -174.487831\n",
       "province_Newfoundland and Labrador   -660.729166\n",
       "province_Northwest Territories       -184.858243\n",
       "province_Nova Scotia                  789.421022\n",
       "province_Ontario                      475.724298\n",
       "province_Quebec                       341.402543\n",
       "province_Saskatchewan                -557.462326\n",
       "lease_term_6 months                   -88.962279\n",
       "lease_term_Long Term                 -343.189217\n",
       "lease_term_Negotiable                -165.181243\n",
       "lease_term_Short Term                 171.972724\n",
       "lease_term_months                     862.261041\n",
       "furnishing_Negotiable                -232.962365\n",
       "furnishing_Unfurnished               -499.011332\n",
       "furnishing_Unfurnished, Negotiable   -734.449493\n",
       "smoking_Non-Smoking                   138.573681\n",
       "smoking_Smoke Free Building           146.995280\n",
       "smoking_Smoking Allowed               -74.138517\n",
       "cats_True                            -120.570737\n",
       "dogs_True                             195.471877"
      ]
     },
     "execution_count": 27,
     "metadata": {},
     "output_type": "execute_result"
    }
   ],
   "source": [
    "final_model = LinearRegression()\n",
    "final_model.fit(X,y)\n",
    "coeff_df = pd.DataFrame(final_model.coef_,X.columns,columns=['price'])\n",
    "coeff_df"
   ]
  },
  {
   "cell_type": "code",
   "execution_count": 28,
   "id": "48da6b77",
   "metadata": {},
   "outputs": [
    {
     "data": {
      "text/plain": [
       "<matplotlib.lines.Line2D at 0x2b904ac43d0>"
      ]
     },
     "execution_count": 28,
     "metadata": {},
     "output_type": "execute_result"
    },
    {
     "data": {
      "image/png": "[encoded data removed]",
      "text/plain": [
       "<Figure size 640x480 with 1 Axes>"
      ]
     },
     "metadata": {},
     "output_type": "display_data"
    }
   ],
   "source": [
    "y_pred = final_model.predict(X)\n",
    "residuals = y_pred - y\n",
    "sns.scatterplot(x=y,y=residuals)\n",
    "plt.axhline(y=0, color='r', linestyle='--')"
   ]
  },
  {
   "cell_type": "markdown",
   "id": "e4320a34",
   "metadata": {},
   "source": [
    "#### The residual plot shows a clear pattern, which indicates that the linear regression model is not well-fitted to the data. Specifically, the pattern shows a strong downward trend in the residuals as the actual price increases."
   ]
  },
  {
   "cell_type": "markdown",
   "id": "36d589a8",
   "metadata": {},
   "source": [
    "### Polynomial Regression"
   ]
  },
  {
   "cell_type": "code",
   "execution_count": 9,
   "id": "e42fb663",
   "metadata": {},
   "outputs": [
    {
     "data": {
      "text/plain": [
       "type_House     0.309973\n",
       "beds_8 Beds    0.246256\n",
       "beds_Studio    0.217746\n",
       "Name: price, dtype: float64"
      ]
     },
     "execution_count": 9,
     "metadata": {},
     "output_type": "execute_result"
    }
   ],
   "source": [
    "# Check highest correlation with the price column\n",
    "corr = rent.corr(numeric_only=True)\n",
    "charges_corr = corr['price']\n",
    "charges_corr.abs().sort_values(ascending=False).iloc[1:4]"
   ]
  },
  {
   "cell_type": "code",
   "execution_count": 10,
   "id": "e3c07f85",
   "metadata": {},
   "outputs": [
    {
     "data": {
      "text/plain": [
       "((19337, 3), (19337, 9))"
      ]
     },
     "execution_count": 10,
     "metadata": {},
     "output_type": "execute_result"
    }
   ],
   "source": [
    "X=rent[['type_House', 'beds_8 Beds', 'beds_Studio']]\n",
    "y = rent['price']\n",
    "\n",
    "from sklearn.preprocessing import PolynomialFeatures\n",
    "# Create an instance of PolynomialFeatures\n",
    "\n",
    "poly_converter = PolynomialFeatures(degree=2, include_bias=False)\n",
    "\n",
    "# Fit converter to X features + transform features\n",
    "\n",
    "poly_features = poly_converter.fit_transform(X)\n",
    "\n",
    "# Compare shape of X vs. shape of new features\n",
    "\n",
    "X.shape, poly_features.shape"
   ]
  },
  {
   "cell_type": "code",
   "execution_count": 11,
   "id": "bc127ad6",
   "metadata": {},
   "outputs": [
    {
     "data": {
      "text/html": [
       "<style>#sk-container-id-1 {color: black;}#sk-container-id-1 pre{padding: 0;}#sk-container-id-1 div.sk-toggleable {background-color: white;}#sk-container-id-1 label.sk-toggleable__label {cursor: pointer;display: block;width: 100%;margin-bottom: 0;padding: 0.3em;box-sizing: border-box;text-align: center;}#sk-container-id-1 label.sk-toggleable__label-arrow:before {content: \"▸\";float: left;margin-right: 0.25em;color: #696969;}#sk-container-id-1 label.sk-toggleable__label-arrow:hover:before {color: black;}#sk-container-id-1 div.sk-estimator:hover label.sk-toggleable__label-arrow:before {color: black;}#sk-container-id-1 div.sk-toggleable__content {max-height: 0;max-width: 0;overflow: hidden;text-align: left;background-color: #f0f8ff;}#sk-container-id-1 div.sk-toggleable__content pre {margin: 0.2em;color: black;border-radius: 0.25em;background-color: #f0f8ff;}#sk-container-id-1 input.sk-toggleable__control:checked~div.sk-toggleable__content {max-height: 200px;max-width: 100%;overflow: auto;}#sk-container-id-1 input.sk-toggleable__control:checked~label.sk-toggleable__label-arrow:before {content: \"▾\";}#sk-container-id-1 div.sk-estimator input.sk-toggleable__control:checked~label.sk-toggleable__label {background-color: #d4ebff;}#sk-container-id-1 div.sk-label input.sk-toggleable__control:checked~label.sk-toggleable__label {background-color: #d4ebff;}#sk-container-id-1 input.sk-hidden--visually {border: 0;clip: rect(1px 1px 1px 1px);clip: rect(1px, 1px, 1px, 1px);height: 1px;margin: -1px;overflow: hidden;padding: 0;position: absolute;width: 1px;}#sk-container-id-1 div.sk-estimator {font-family: monospace;background-color: #f0f8ff;border: 1px dotted black;border-radius: 0.25em;box-sizing: border-box;margin-bottom: 0.5em;}#sk-container-id-1 div.sk-estimator:hover {background-color: #d4ebff;}#sk-container-id-1 div.sk-parallel-item::after {content: \"\";width: 100%;border-bottom: 1px solid gray;flex-grow: 1;}#sk-container-id-1 div.sk-label:hover label.sk-toggleable__label {background-color: #d4ebff;}#sk-container-id-1 div.sk-serial::before {content: \"\";position: absolute;border-left: 1px solid gray;box-sizing: border-box;top: 0;bottom: 0;left: 50%;z-index: 0;}#sk-container-id-1 div.sk-serial {display: flex;flex-direction: column;align-items: center;background-color: white;padding-right: 0.2em;padding-left: 0.2em;position: relative;}#sk-container-id-1 div.sk-item {position: relative;z-index: 1;}#sk-container-id-1 div.sk-parallel {display: flex;align-items: stretch;justify-content: center;background-color: white;position: relative;}#sk-container-id-1 div.sk-item::before, #sk-container-id-1 div.sk-parallel-item::before {content: \"\";position: absolute;border-left: 1px solid gray;box-sizing: border-box;top: 0;bottom: 0;left: 50%;z-index: -1;}#sk-container-id-1 div.sk-parallel-item {display: flex;flex-direction: column;z-index: 1;position: relative;background-color: white;}#sk-container-id-1 div.sk-parallel-item:first-child::after {align-self: flex-end;width: 50%;}#sk-container-id-1 div.sk-parallel-item:last-child::after {align-self: flex-start;width: 50%;}#sk-container-id-1 div.sk-parallel-item:only-child::after {width: 0;}#sk-container-id-1 div.sk-dashed-wrapped {border: 1px dashed gray;margin: 0 0.4em 0.5em 0.4em;box-sizing: border-box;padding-bottom: 0.4em;background-color: white;}#sk-container-id-1 div.sk-label label {font-family: monospace;font-weight: bold;display: inline-block;line-height: 1.2em;}#sk-container-id-1 div.sk-label-container {text-align: center;}#sk-container-id-1 div.sk-container {/* jupyter's `normalize.less` sets `[hidden] { display: none; }` but bootstrap.min.css set `[hidden] { display: none !important; }` so we also need the `!important` here to be able to override the default hidden behavior on the sphinx rendered scikit-learn.org. See: https://github.com/scikit-learn/scikit-learn/issues/21755 */display: inline-block !important;position: relative;}#sk-container-id-1 div.sk-text-repr-fallback {display: none;}</style><div id=\"sk-container-id-1\" class=\"sk-top-container\"><div class=\"sk-text-repr-fallback\"><pre>LinearRegression()</pre><b>In a Jupyter environment, please rerun this cell to show the HTML representation or trust the notebook. <br />On GitHub, the HTML representation is unable to render, please try loading this page with nbviewer.org.</b></div><div class=\"sk-container\" hidden><div class=\"sk-item\"><div class=\"sk-estimator sk-toggleable\"><input class=\"sk-toggleable__control sk-hidden--visually\" id=\"sk-estimator-id-1\" type=\"checkbox\" checked><label for=\"sk-estimator-id-1\" class=\"sk-toggleable__label sk-toggleable__label-arrow\">LinearRegression</label><div class=\"sk-toggleable__content\"><pre>LinearRegression()</pre></div></div></div></div></div>"
      ],
      "text/plain": [
       "LinearRegression()"
      ]
     },
     "execution_count": 11,
     "metadata": {},
     "output_type": "execute_result"
    }
   ],
   "source": [
    "# Train/test split\n",
    "# Instead of using X, we will use poly_features\n",
    "\n",
    "from sklearn.model_selection import train_test_split\n",
    "X_train, X_test, y_train, y_test = train_test_split(poly_features, y, test_size=0.15, random_state=1)\n",
    "\n",
    "# Import model\n",
    "\n",
    "from sklearn.linear_model import LinearRegression\n",
    "\n",
    "# Create instance of model\n",
    "\n",
    "model = LinearRegression()\n",
    "\n",
    "# Train regression model on 9 features instead of 3\n",
    "\n",
    "model.fit(X_train, y_train)"
   ]
  },
  {
   "cell_type": "code",
   "execution_count": 13,
   "id": "6509d166",
   "metadata": {},
   "outputs": [
    {
     "name": "stdout",
     "output_type": "stream",
     "text": [
      "Regression MAE: 570.4994504251666\n",
      "Regression MSE: 915486.0292072842\n",
      "Regression RMSE: 956.810341294075\n"
     ]
    }
   ],
   "source": [
    "y_pred = model.predict(X_test)\n",
    "\n",
    "from sklearn.metrics import mean_absolute_error,mean_squared_error\n",
    "\n",
    "# Obtain metrics\n",
    "\n",
    "MAE = mean_absolute_error(y_test, y_pred)\n",
    "MSE = mean_squared_error(y_test, y_pred)\n",
    "RMSE = np.sqrt(MSE)\n",
    "print(f\"Regression MAE: {MAE}\")\n",
    "print(f\"Regression MSE: {MSE}\")\n",
    "print(f\"Regression RMSE: {RMSE}\")"
   ]
  },
  {
   "cell_type": "code",
   "execution_count": 14,
   "id": "f4ab5da3",
   "metadata": {},
   "outputs": [
    {
     "name": "stdout",
     "output_type": "stream",
     "text": [
      "TRAIN MAE: 555.1613962744814\n",
      "TRAIN MSE: 633064.8263817888\n",
      "TRAIN RMSE: 795.6537100911356\n"
     ]
    }
   ],
   "source": [
    "y_train_pred = model.predict(X_train)\n",
    "\n",
    "train_MAE = mean_absolute_error(y_train, y_train_pred)\n",
    "train_MSE = mean_squared_error(y_train, y_train_pred)\n",
    "train_RMSE = np.sqrt(train_MSE)\n",
    "print(f\"TRAIN MAE: {train_MAE}\")\n",
    "print(f\"TRAIN MSE: {train_MSE}\")\n",
    "print(f\"TRAIN RMSE: {train_RMSE}\")"
   ]
  },
  {
   "cell_type": "code",
   "execution_count": 15,
   "id": "bdc658f8",
   "metadata": {},
   "outputs": [
    {
     "data": {
      "text/html": [
       "<div>\n",
       "<style scoped>\n",
       "    .dataframe tbody tr th:only-of-type {\n",
       "        vertical-align: middle;\n",
       "    }\n",
       "\n",
       "    .dataframe tbody tr th {\n",
       "        vertical-align: top;\n",
       "    }\n",
       "\n",
       "    .dataframe thead th {\n",
       "        text-align: right;\n",
       "    }\n",
       "</style>\n",
       "<table border=\"1\" class=\"dataframe\">\n",
       "  <thead>\n",
       "    <tr style=\"text-align: right;\">\n",
       "      <th></th>\n",
       "      <th>Degree</th>\n",
       "      <th>Train RMSE</th>\n",
       "      <th>Test RMSE</th>\n",
       "    </tr>\n",
       "  </thead>\n",
       "  <tbody>\n",
       "    <tr>\n",
       "      <th>0</th>\n",
       "      <td>1</td>\n",
       "      <td>795.642626</td>\n",
       "      <td>956.830544</td>\n",
       "    </tr>\n",
       "    <tr>\n",
       "      <th>1</th>\n",
       "      <td>2</td>\n",
       "      <td>795.655233</td>\n",
       "      <td>958.647094</td>\n",
       "    </tr>\n",
       "    <tr>\n",
       "      <th>2</th>\n",
       "      <td>3</td>\n",
       "      <td>795.655248</td>\n",
       "      <td>958.645598</td>\n",
       "    </tr>\n",
       "    <tr>\n",
       "      <th>3</th>\n",
       "      <td>4</td>\n",
       "      <td>795.658340</td>\n",
       "      <td>954.532938</td>\n",
       "    </tr>\n",
       "    <tr>\n",
       "      <th>4</th>\n",
       "      <td>5</td>\n",
       "      <td>795.659942</td>\n",
       "      <td>958.672583</td>\n",
       "    </tr>\n",
       "    <tr>\n",
       "      <th>5</th>\n",
       "      <td>6</td>\n",
       "      <td>795.686409</td>\n",
       "      <td>947.317031</td>\n",
       "    </tr>\n",
       "    <tr>\n",
       "      <th>6</th>\n",
       "      <td>7</td>\n",
       "      <td>795.668598</td>\n",
       "      <td>962.005326</td>\n",
       "    </tr>\n",
       "    <tr>\n",
       "      <th>7</th>\n",
       "      <td>8</td>\n",
       "      <td>795.668744</td>\n",
       "      <td>949.952908</td>\n",
       "    </tr>\n",
       "    <tr>\n",
       "      <th>8</th>\n",
       "      <td>9</td>\n",
       "      <td>795.653508</td>\n",
       "      <td>950.681429</td>\n",
       "    </tr>\n",
       "    <tr>\n",
       "      <th>9</th>\n",
       "      <td>10</td>\n",
       "      <td>795.694989</td>\n",
       "      <td>940.930187</td>\n",
       "    </tr>\n",
       "    <tr>\n",
       "      <th>10</th>\n",
       "      <td>11</td>\n",
       "      <td>795.686069</td>\n",
       "      <td>952.493592</td>\n",
       "    </tr>\n",
       "    <tr>\n",
       "      <th>11</th>\n",
       "      <td>12</td>\n",
       "      <td>795.674883</td>\n",
       "      <td>955.419824</td>\n",
       "    </tr>\n",
       "    <tr>\n",
       "      <th>12</th>\n",
       "      <td>13</td>\n",
       "      <td>795.682308</td>\n",
       "      <td>956.822037</td>\n",
       "    </tr>\n",
       "    <tr>\n",
       "      <th>13</th>\n",
       "      <td>14</td>\n",
       "      <td>795.675337</td>\n",
       "      <td>952.168988</td>\n",
       "    </tr>\n",
       "    <tr>\n",
       "      <th>14</th>\n",
       "      <td>15</td>\n",
       "      <td>795.668852</td>\n",
       "      <td>967.204676</td>\n",
       "    </tr>\n",
       "  </tbody>\n",
       "</table>\n",
       "</div>"
      ],
      "text/plain": [
       "    Degree  Train RMSE   Test RMSE\n",
       "0        1  795.642626  956.830544\n",
       "1        2  795.655233  958.647094\n",
       "2        3  795.655248  958.645598\n",
       "3        4  795.658340  954.532938\n",
       "4        5  795.659942  958.672583\n",
       "5        6  795.686409  947.317031\n",
       "6        7  795.668598  962.005326\n",
       "7        8  795.668744  949.952908\n",
       "8        9  795.653508  950.681429\n",
       "9       10  795.694989  940.930187\n",
       "10      11  795.686069  952.493592\n",
       "11      12  795.674883  955.419824\n",
       "12      13  795.682308  956.822037\n",
       "13      14  795.675337  952.168988\n",
       "14      15  795.668852  967.204676"
      ]
     },
     "execution_count": 15,
     "metadata": {},
     "output_type": "execute_result"
    }
   ],
   "source": [
    "from sklearn.preprocessing import StandardScaler\n",
    "\n",
    "# List to save RMSE for training data\n",
    "train_rmse_errors = []\n",
    "# List to save RMSE for testing data\n",
    "test_rmse_errors = []\n",
    "# List to save degrees\n",
    "degrees = []\n",
    "\n",
    "# Loop over polynomial degrees\n",
    "for d in range(1, 16):  # Compare polynomial degrees from 1 to 15\n",
    "    # Create poly features for each degree \"d\"\n",
    "    polynomial_converter = PolynomialFeatures(degree=d, include_bias=False)\n",
    "    poly_features = polynomial_converter.fit_transform(X)\n",
    "    \n",
    "    # Split dataset into train/test split\n",
    "    X_train, X_test, y_train, y_test = train_test_split(poly_features, y, test_size=0.15, random_state=1)\n",
    "    \n",
    "    # Scale the features\n",
    "    scaler = StandardScaler()\n",
    "    X_train_scaled = scaler.fit_transform(X_train)\n",
    "    X_test_scaled = scaler.transform(X_test)\n",
    "    \n",
    "    # Create and train the final model\n",
    "    model = LinearRegression()\n",
    "    model.fit(X_train_scaled, y_train)\n",
    "    \n",
    "    # Get predictions for both train and test data\n",
    "    train_pred = model.predict(X_train_scaled)\n",
    "    test_pred = model.predict(X_test_scaled)\n",
    "    \n",
    "    # Calculate RMSE for training set\n",
    "    train_RMSE = np.sqrt(mean_squared_error(y_train, train_pred))\n",
    "    \n",
    "    # Calculate RMSE for testing set\n",
    "    test_RMSE = np.sqrt(mean_squared_error(y_test, test_pred))\n",
    "    \n",
    "    # Store errors and degrees to lists\n",
    "    train_rmse_errors.append(train_RMSE)\n",
    "    test_rmse_errors.append(test_RMSE)\n",
    "    degrees.append(d)\n",
    "\n",
    "# Create df with RMSE scores + degrees\n",
    "results_df = pd.DataFrame({\n",
    "    'Degree': degrees,\n",
    "    'Train RMSE': train_rmse_errors,\n",
    "    'Test RMSE': test_rmse_errors\n",
    "})\n",
    "\n",
    "results_df"
   ]
  },
  {
   "cell_type": "code",
   "execution_count": 16,
   "id": "ec532fff",
   "metadata": {},
   "outputs": [
    {
     "data": {
      "image/png": "[encoded data removed]",
      "text/plain": [
       "<Figure size 800x400 with 1 Axes>"
      ]
     },
     "metadata": {},
     "output_type": "display_data"
    }
   ],
   "source": [
    "# Visualize RMSE vs. Complexity for train and test sets\n",
    "plt.figure(figsize=(8, 4))\n",
    "plt.plot(range(1, 16), train_rmse_errors, label='Train RMSE', marker='o')\n",
    "plt.plot(range(1, 16), test_rmse_errors, label='Test RMSE', marker='o')\n",
    "plt.xlabel(\"Polynomial Complexity (Degree)\")\n",
    "plt.ylabel(\"RMSE\")\n",
    "plt.legend()\n",
    "plt.title(\"RMSE vs. Polynomial Complexity\");"
   ]
  },
  {
   "cell_type": "markdown",
   "id": "4381f95b",
   "metadata": {},
   "source": [
    "#### The RMSE on the training data (795.65) is noticeably lower than on the test data (956.81). The increase in RMSE from training to test data suggests that the model has some degree of overfitting. The difference indicates mild overfitting since the gap isn't excessively large, so it's not severe overfitting."
   ]
  },
  {
   "cell_type": "markdown",
   "id": "e584c283",
   "metadata": {},
   "source": [
    "### Ridge Regression"
   ]
  },
  {
   "cell_type": "code",
   "execution_count": 17,
   "id": "d17d53b3",
   "metadata": {},
   "outputs": [
    {
     "data": {
      "text/plain": [
       "(19337, 34)"
      ]
     },
     "execution_count": 17,
     "metadata": {},
     "output_type": "execute_result"
    }
   ],
   "source": [
    "X=rent[['type_House', 'beds_8 Beds', 'beds_Studio']]\n",
    "y = rent['price']\n",
    "\n",
    "from sklearn.preprocessing import PolynomialFeatures\n",
    "\n",
    "# Create an instance of PolynomialFeatures\n",
    "poly_converter = PolynomialFeatures(degree=4, include_bias=False)\n",
    "\n",
    "# Fit converter to X features + transform features\n",
    "poly_features = poly_converter.fit_transform(X)\n",
    "\n",
    "poly_features.shape"
   ]
  },
  {
   "cell_type": "code",
   "execution_count": 19,
   "id": "3172dc59",
   "metadata": {},
   "outputs": [
    {
     "data": {
      "text/html": [
       "<style>#sk-container-id-2 {color: black;}#sk-container-id-2 pre{padding: 0;}#sk-container-id-2 div.sk-toggleable {background-color: white;}#sk-container-id-2 label.sk-toggleable__label {cursor: pointer;display: block;width: 100%;margin-bottom: 0;padding: 0.3em;box-sizing: border-box;text-align: center;}#sk-container-id-2 label.sk-toggleable__label-arrow:before {content: \"▸\";float: left;margin-right: 0.25em;color: #696969;}#sk-container-id-2 label.sk-toggleable__label-arrow:hover:before {color: black;}#sk-container-id-2 div.sk-estimator:hover label.sk-toggleable__label-arrow:before {color: black;}#sk-container-id-2 div.sk-toggleable__content {max-height: 0;max-width: 0;overflow: hidden;text-align: left;background-color: #f0f8ff;}#sk-container-id-2 div.sk-toggleable__content pre {margin: 0.2em;color: black;border-radius: 0.25em;background-color: #f0f8ff;}#sk-container-id-2 input.sk-toggleable__control:checked~div.sk-toggleable__content {max-height: 200px;max-width: 100%;overflow: auto;}#sk-container-id-2 input.sk-toggleable__control:checked~label.sk-toggleable__label-arrow:before {content: \"▾\";}#sk-container-id-2 div.sk-estimator input.sk-toggleable__control:checked~label.sk-toggleable__label {background-color: #d4ebff;}#sk-container-id-2 div.sk-label input.sk-toggleable__control:checked~label.sk-toggleable__label {background-color: #d4ebff;}#sk-container-id-2 input.sk-hidden--visually {border: 0;clip: rect(1px 1px 1px 1px);clip: rect(1px, 1px, 1px, 1px);height: 1px;margin: -1px;overflow: hidden;padding: 0;position: absolute;width: 1px;}#sk-container-id-2 div.sk-estimator {font-family: monospace;background-color: #f0f8ff;border: 1px dotted black;border-radius: 0.25em;box-sizing: border-box;margin-bottom: 0.5em;}#sk-container-id-2 div.sk-estimator:hover {background-color: #d4ebff;}#sk-container-id-2 div.sk-parallel-item::after {content: \"\";width: 100%;border-bottom: 1px solid gray;flex-grow: 1;}#sk-container-id-2 div.sk-label:hover label.sk-toggleable__label {background-color: #d4ebff;}#sk-container-id-2 div.sk-serial::before {content: \"\";position: absolute;border-left: 1px solid gray;box-sizing: border-box;top: 0;bottom: 0;left: 50%;z-index: 0;}#sk-container-id-2 div.sk-serial {display: flex;flex-direction: column;align-items: center;background-color: white;padding-right: 0.2em;padding-left: 0.2em;position: relative;}#sk-container-id-2 div.sk-item {position: relative;z-index: 1;}#sk-container-id-2 div.sk-parallel {display: flex;align-items: stretch;justify-content: center;background-color: white;position: relative;}#sk-container-id-2 div.sk-item::before, #sk-container-id-2 div.sk-parallel-item::before {content: \"\";position: absolute;border-left: 1px solid gray;box-sizing: border-box;top: 0;bottom: 0;left: 50%;z-index: -1;}#sk-container-id-2 div.sk-parallel-item {display: flex;flex-direction: column;z-index: 1;position: relative;background-color: white;}#sk-container-id-2 div.sk-parallel-item:first-child::after {align-self: flex-end;width: 50%;}#sk-container-id-2 div.sk-parallel-item:last-child::after {align-self: flex-start;width: 50%;}#sk-container-id-2 div.sk-parallel-item:only-child::after {width: 0;}#sk-container-id-2 div.sk-dashed-wrapped {border: 1px dashed gray;margin: 0 0.4em 0.5em 0.4em;box-sizing: border-box;padding-bottom: 0.4em;background-color: white;}#sk-container-id-2 div.sk-label label {font-family: monospace;font-weight: bold;display: inline-block;line-height: 1.2em;}#sk-container-id-2 div.sk-label-container {text-align: center;}#sk-container-id-2 div.sk-container {/* jupyter's `normalize.less` sets `[hidden] { display: none; }` but bootstrap.min.css set `[hidden] { display: none !important; }` so we also need the `!important` here to be able to override the default hidden behavior on the sphinx rendered scikit-learn.org. See: https://github.com/scikit-learn/scikit-learn/issues/21755 */display: inline-block !important;position: relative;}#sk-container-id-2 div.sk-text-repr-fallback {display: none;}</style><div id=\"sk-container-id-2\" class=\"sk-top-container\"><div class=\"sk-text-repr-fallback\"><pre>Ridge(alpha=10)</pre><b>In a Jupyter environment, please rerun this cell to show the HTML representation or trust the notebook. <br />On GitHub, the HTML representation is unable to render, please try loading this page with nbviewer.org.</b></div><div class=\"sk-container\" hidden><div class=\"sk-item\"><div class=\"sk-estimator sk-toggleable\"><input class=\"sk-toggleable__control sk-hidden--visually\" id=\"sk-estimator-id-2\" type=\"checkbox\" checked><label for=\"sk-estimator-id-2\" class=\"sk-toggleable__label sk-toggleable__label-arrow\">Ridge</label><div class=\"sk-toggleable__content\"><pre>Ridge(alpha=10)</pre></div></div></div></div></div>"
      ],
      "text/plain": [
       "Ridge(alpha=10)"
      ]
     },
     "execution_count": 19,
     "metadata": {},
     "output_type": "execute_result"
    }
   ],
   "source": [
    "# Train/test split\n",
    "# Instead of using X, we will use poly_features\n",
    "\n",
    "from sklearn.model_selection import train_test_split\n",
    "X_train, X_test, y_train, y_test = train_test_split(poly_features, y, test_size=0.15, random_state=1)\n",
    "\n",
    "# Scale the features\n",
    "\n",
    "from sklearn.preprocessing import StandardScaler\n",
    "\n",
    "scaler = StandardScaler()\n",
    "scaled_X_train = scaler.fit_transform(X_train)\n",
    "scaled_X_test = scaler.transform(X_test)\n",
    "\n",
    "# Import model\n",
    "\n",
    "from sklearn.linear_model import Ridge\n",
    "\n",
    "# Create instance of model\n",
    "ridge_model = Ridge(alpha=10)\n",
    "\n",
    "# Fit the model on scaled_X_train\n",
    "ridge_model.fit(scaled_X_train, y_train)"
   ]
  },
  {
   "cell_type": "code",
   "execution_count": 20,
   "id": "05a7713f",
   "metadata": {},
   "outputs": [
    {
     "name": "stdout",
     "output_type": "stream",
     "text": [
      "Ridge MAE: 570.5494377619941\n",
      "Ridge MSE: 915530.8652319197\n",
      "Ridge RMSE: 956.8337709507956\n"
     ]
    }
   ],
   "source": [
    "# Evaluate ridge model\n",
    "\n",
    "y_pred = ridge_model.predict(scaled_X_test)\n",
    "\n",
    "from sklearn.metrics import mean_absolute_error,mean_squared_error\n",
    "\n",
    "# Obtain metrics\n",
    "MAE = mean_absolute_error(y_test, y_pred)\n",
    "MSE = mean_squared_error(y_test, y_pred)\n",
    "RMSE = np.sqrt(MSE)\n",
    "\n",
    "print(f\"Ridge MAE: {MAE}\")\n",
    "print(f\"Ridge MSE: {MSE}\")\n",
    "print(f\"Ridge RMSE: {RMSE}\")"
   ]
  },
  {
   "cell_type": "code",
   "execution_count": 21,
   "id": "58ce9375",
   "metadata": {},
   "outputs": [
    {
     "data": {
      "text/html": [
       "<style>#sk-container-id-3 {color: black;}#sk-container-id-3 pre{padding: 0;}#sk-container-id-3 div.sk-toggleable {background-color: white;}#sk-container-id-3 label.sk-toggleable__label {cursor: pointer;display: block;width: 100%;margin-bottom: 0;padding: 0.3em;box-sizing: border-box;text-align: center;}#sk-container-id-3 label.sk-toggleable__label-arrow:before {content: \"▸\";float: left;margin-right: 0.25em;color: #696969;}#sk-container-id-3 label.sk-toggleable__label-arrow:hover:before {color: black;}#sk-container-id-3 div.sk-estimator:hover label.sk-toggleable__label-arrow:before {color: black;}#sk-container-id-3 div.sk-toggleable__content {max-height: 0;max-width: 0;overflow: hidden;text-align: left;background-color: #f0f8ff;}#sk-container-id-3 div.sk-toggleable__content pre {margin: 0.2em;color: black;border-radius: 0.25em;background-color: #f0f8ff;}#sk-container-id-3 input.sk-toggleable__control:checked~div.sk-toggleable__content {max-height: 200px;max-width: 100%;overflow: auto;}#sk-container-id-3 input.sk-toggleable__control:checked~label.sk-toggleable__label-arrow:before {content: \"▾\";}#sk-container-id-3 div.sk-estimator input.sk-toggleable__control:checked~label.sk-toggleable__label {background-color: #d4ebff;}#sk-container-id-3 div.sk-label input.sk-toggleable__control:checked~label.sk-toggleable__label {background-color: #d4ebff;}#sk-container-id-3 input.sk-hidden--visually {border: 0;clip: rect(1px 1px 1px 1px);clip: rect(1px, 1px, 1px, 1px);height: 1px;margin: -1px;overflow: hidden;padding: 0;position: absolute;width: 1px;}#sk-container-id-3 div.sk-estimator {font-family: monospace;background-color: #f0f8ff;border: 1px dotted black;border-radius: 0.25em;box-sizing: border-box;margin-bottom: 0.5em;}#sk-container-id-3 div.sk-estimator:hover {background-color: #d4ebff;}#sk-container-id-3 div.sk-parallel-item::after {content: \"\";width: 100%;border-bottom: 1px solid gray;flex-grow: 1;}#sk-container-id-3 div.sk-label:hover label.sk-toggleable__label {background-color: #d4ebff;}#sk-container-id-3 div.sk-serial::before {content: \"\";position: absolute;border-left: 1px solid gray;box-sizing: border-box;top: 0;bottom: 0;left: 50%;z-index: 0;}#sk-container-id-3 div.sk-serial {display: flex;flex-direction: column;align-items: center;background-color: white;padding-right: 0.2em;padding-left: 0.2em;position: relative;}#sk-container-id-3 div.sk-item {position: relative;z-index: 1;}#sk-container-id-3 div.sk-parallel {display: flex;align-items: stretch;justify-content: center;background-color: white;position: relative;}#sk-container-id-3 div.sk-item::before, #sk-container-id-3 div.sk-parallel-item::before {content: \"\";position: absolute;border-left: 1px solid gray;box-sizing: border-box;top: 0;bottom: 0;left: 50%;z-index: -1;}#sk-container-id-3 div.sk-parallel-item {display: flex;flex-direction: column;z-index: 1;position: relative;background-color: white;}#sk-container-id-3 div.sk-parallel-item:first-child::after {align-self: flex-end;width: 50%;}#sk-container-id-3 div.sk-parallel-item:last-child::after {align-self: flex-start;width: 50%;}#sk-container-id-3 div.sk-parallel-item:only-child::after {width: 0;}#sk-container-id-3 div.sk-dashed-wrapped {border: 1px dashed gray;margin: 0 0.4em 0.5em 0.4em;box-sizing: border-box;padding-bottom: 0.4em;background-color: white;}#sk-container-id-3 div.sk-label label {font-family: monospace;font-weight: bold;display: inline-block;line-height: 1.2em;}#sk-container-id-3 div.sk-label-container {text-align: center;}#sk-container-id-3 div.sk-container {/* jupyter's `normalize.less` sets `[hidden] { display: none; }` but bootstrap.min.css set `[hidden] { display: none !important; }` so we also need the `!important` here to be able to override the default hidden behavior on the sphinx rendered scikit-learn.org. See: https://github.com/scikit-learn/scikit-learn/issues/21755 */display: inline-block !important;position: relative;}#sk-container-id-3 div.sk-text-repr-fallback {display: none;}</style><div id=\"sk-container-id-3\" class=\"sk-top-container\"><div class=\"sk-text-repr-fallback\"><pre>RidgeCV(scoring=&#x27;neg_mean_absolute_error&#x27;)</pre><b>In a Jupyter environment, please rerun this cell to show the HTML representation or trust the notebook. <br />On GitHub, the HTML representation is unable to render, please try loading this page with nbviewer.org.</b></div><div class=\"sk-container\" hidden><div class=\"sk-item\"><div class=\"sk-estimator sk-toggleable\"><input class=\"sk-toggleable__control sk-hidden--visually\" id=\"sk-estimator-id-3\" type=\"checkbox\" checked><label for=\"sk-estimator-id-3\" class=\"sk-toggleable__label sk-toggleable__label-arrow\">RidgeCV</label><div class=\"sk-toggleable__content\"><pre>RidgeCV(scoring=&#x27;neg_mean_absolute_error&#x27;)</pre></div></div></div></div></div>"
      ],
      "text/plain": [
       "RidgeCV(scoring='neg_mean_absolute_error')"
      ]
     },
     "execution_count": 21,
     "metadata": {},
     "output_type": "execute_result"
    }
   ],
   "source": [
    "# Import model\n",
    "\n",
    "from sklearn.linear_model import RidgeCV\n",
    "\n",
    "# Create instance of model\n",
    "ridgecv_model = RidgeCV((0.1, 1.0, 10.0), scoring='neg_mean_absolute_error')\n",
    "\n",
    "# Fit the model on scaled_X_train\n",
    "ridgecv_model.fit(scaled_X_train, y_train)"
   ]
  },
  {
   "cell_type": "code",
   "execution_count": 22,
   "id": "57df143c",
   "metadata": {},
   "outputs": [
    {
     "data": {
      "text/plain": [
       "10.0"
      ]
     },
     "execution_count": 22,
     "metadata": {},
     "output_type": "execute_result"
    }
   ],
   "source": [
    "ridgecv_model.alpha_"
   ]
  },
  {
   "cell_type": "code",
   "execution_count": 23,
   "id": "5c96c76f",
   "metadata": {},
   "outputs": [
    {
     "data": {
      "text/plain": [
       "(570.5494377618493, 915530.8652251962, 956.8337709472822)"
      ]
     },
     "execution_count": 23,
     "metadata": {},
     "output_type": "execute_result"
    }
   ],
   "source": [
    "# Evaluate ridgecv model\n",
    "\n",
    "y_pred = ridgecv_model.predict(scaled_X_test)\n",
    "\n",
    "# Obtain metrics\n",
    "\n",
    "MAE = mean_absolute_error(y_test, y_pred)\n",
    "MSE = mean_squared_error(y_test, y_pred)\n",
    "RMSE = np.sqrt(MSE)\n",
    "\n",
    "MAE, MSE, RMSE"
   ]
  },
  {
   "cell_type": "markdown",
   "id": "33e970a9",
   "metadata": {},
   "source": [
    "#### The Ridge Regression model's performance is very close to that of previous model, indicating that regularization did not lead to significant improvements in this case. "
   ]
  },
  {
   "cell_type": "markdown",
   "id": "8cfd68fd",
   "metadata": {},
   "source": [
    "### Lasso Regression"
   ]
  },
  {
   "cell_type": "code",
   "execution_count": 30,
   "id": "b8cb9a64",
   "metadata": {},
   "outputs": [
    {
     "data": {
      "text/html": [
       "<style>#sk-container-id-6 {color: black;}#sk-container-id-6 pre{padding: 0;}#sk-container-id-6 div.sk-toggleable {background-color: white;}#sk-container-id-6 label.sk-toggleable__label {cursor: pointer;display: block;width: 100%;margin-bottom: 0;padding: 0.3em;box-sizing: border-box;text-align: center;}#sk-container-id-6 label.sk-toggleable__label-arrow:before {content: \"▸\";float: left;margin-right: 0.25em;color: #696969;}#sk-container-id-6 label.sk-toggleable__label-arrow:hover:before {color: black;}#sk-container-id-6 div.sk-estimator:hover label.sk-toggleable__label-arrow:before {color: black;}#sk-container-id-6 div.sk-toggleable__content {max-height: 0;max-width: 0;overflow: hidden;text-align: left;background-color: #f0f8ff;}#sk-container-id-6 div.sk-toggleable__content pre {margin: 0.2em;color: black;border-radius: 0.25em;background-color: #f0f8ff;}#sk-container-id-6 input.sk-toggleable__control:checked~div.sk-toggleable__content {max-height: 200px;max-width: 100%;overflow: auto;}#sk-container-id-6 input.sk-toggleable__control:checked~label.sk-toggleable__label-arrow:before {content: \"▾\";}#sk-container-id-6 div.sk-estimator input.sk-toggleable__control:checked~label.sk-toggleable__label {background-color: #d4ebff;}#sk-container-id-6 div.sk-label input.sk-toggleable__control:checked~label.sk-toggleable__label {background-color: #d4ebff;}#sk-container-id-6 input.sk-hidden--visually {border: 0;clip: rect(1px 1px 1px 1px);clip: rect(1px, 1px, 1px, 1px);height: 1px;margin: -1px;overflow: hidden;padding: 0;position: absolute;width: 1px;}#sk-container-id-6 div.sk-estimator {font-family: monospace;background-color: #f0f8ff;border: 1px dotted black;border-radius: 0.25em;box-sizing: border-box;margin-bottom: 0.5em;}#sk-container-id-6 div.sk-estimator:hover {background-color: #d4ebff;}#sk-container-id-6 div.sk-parallel-item::after {content: \"\";width: 100%;border-bottom: 1px solid gray;flex-grow: 1;}#sk-container-id-6 div.sk-label:hover label.sk-toggleable__label {background-color: #d4ebff;}#sk-container-id-6 div.sk-serial::before {content: \"\";position: absolute;border-left: 1px solid gray;box-sizing: border-box;top: 0;bottom: 0;left: 50%;z-index: 0;}#sk-container-id-6 div.sk-serial {display: flex;flex-direction: column;align-items: center;background-color: white;padding-right: 0.2em;padding-left: 0.2em;position: relative;}#sk-container-id-6 div.sk-item {position: relative;z-index: 1;}#sk-container-id-6 div.sk-parallel {display: flex;align-items: stretch;justify-content: center;background-color: white;position: relative;}#sk-container-id-6 div.sk-item::before, #sk-container-id-6 div.sk-parallel-item::before {content: \"\";position: absolute;border-left: 1px solid gray;box-sizing: border-box;top: 0;bottom: 0;left: 50%;z-index: -1;}#sk-container-id-6 div.sk-parallel-item {display: flex;flex-direction: column;z-index: 1;position: relative;background-color: white;}#sk-container-id-6 div.sk-parallel-item:first-child::after {align-self: flex-end;width: 50%;}#sk-container-id-6 div.sk-parallel-item:last-child::after {align-self: flex-start;width: 50%;}#sk-container-id-6 div.sk-parallel-item:only-child::after {width: 0;}#sk-container-id-6 div.sk-dashed-wrapped {border: 1px dashed gray;margin: 0 0.4em 0.5em 0.4em;box-sizing: border-box;padding-bottom: 0.4em;background-color: white;}#sk-container-id-6 div.sk-label label {font-family: monospace;font-weight: bold;display: inline-block;line-height: 1.2em;}#sk-container-id-6 div.sk-label-container {text-align: center;}#sk-container-id-6 div.sk-container {/* jupyter's `normalize.less` sets `[hidden] { display: none; }` but bootstrap.min.css set `[hidden] { display: none !important; }` so we also need the `!important` here to be able to override the default hidden behavior on the sphinx rendered scikit-learn.org. See: https://github.com/scikit-learn/scikit-learn/issues/21755 */display: inline-block !important;position: relative;}#sk-container-id-6 div.sk-text-repr-fallback {display: none;}</style><div id=\"sk-container-id-6\" class=\"sk-top-container\"><div class=\"sk-text-repr-fallback\"><pre>LassoCV(cv=10, eps=0.01, n_alphas=200)</pre><b>In a Jupyter environment, please rerun this cell to show the HTML representation or trust the notebook. <br />On GitHub, the HTML representation is unable to render, please try loading this page with nbviewer.org.</b></div><div class=\"sk-container\" hidden><div class=\"sk-item\"><div class=\"sk-estimator sk-toggleable\"><input class=\"sk-toggleable__control sk-hidden--visually\" id=\"sk-estimator-id-6\" type=\"checkbox\" checked><label for=\"sk-estimator-id-6\" class=\"sk-toggleable__label sk-toggleable__label-arrow\">LassoCV</label><div class=\"sk-toggleable__content\"><pre>LassoCV(cv=10, eps=0.01, n_alphas=200)</pre></div></div></div></div></div>"
      ],
      "text/plain": [
       "LassoCV(cv=10, eps=0.01, n_alphas=200)"
      ]
     },
     "execution_count": 30,
     "metadata": {},
     "output_type": "execute_result"
    }
   ],
   "source": [
    "X=rent[['type_House', 'beds_8 Beds', 'beds_Studio']]\n",
    "y = rent['price']\n",
    "# Import model\n",
    "\n",
    "from sklearn.linear_model import LassoCV\n",
    "\n",
    "# Create instance of model\n",
    "lassocv_model = LassoCV(eps=0.01,n_alphas=200,cv=10)\n",
    "\n",
    "# Fit the model on scaled_X_train\n",
    "lassocv_model.fit(scaled_X_train, y_train)"
   ]
  },
  {
   "cell_type": "code",
   "execution_count": 31,
   "id": "84ac21ad",
   "metadata": {},
   "outputs": [
    {
     "data": {
      "text/plain": [
       "2.6916054548841752"
      ]
     },
     "execution_count": 31,
     "metadata": {},
     "output_type": "execute_result"
    }
   ],
   "source": [
    "lassocv_model.alpha_"
   ]
  },
  {
   "cell_type": "code",
   "execution_count": 32,
   "id": "d162cb01",
   "metadata": {},
   "outputs": [
    {
     "name": "stdout",
     "output_type": "stream",
     "text": [
      "Lasso MAE: 570.6815537622772\n",
      "Lasso MSE: 925245.1945999017\n",
      "Lasso RMSE: 961.8966652400359\n"
     ]
    }
   ],
   "source": [
    "# Evaluate lassocv model\n",
    "\n",
    "y_pred = lassocv_model.predict(scaled_X_test)\n",
    "\n",
    "# Obtain metrics\n",
    "\n",
    "MAE = mean_absolute_error(y_test, y_pred)\n",
    "MSE = mean_squared_error(y_test, y_pred)\n",
    "RMSE = np.sqrt(MSE)\n",
    "\n",
    "print(f\"Lasso MAE: {MAE}\")\n",
    "print(f\"Lasso MSE: {MSE}\")\n",
    "print(f\"Lasso RMSE: {RMSE}\")"
   ]
  },
  {
   "cell_type": "markdown",
   "id": "5100ae40",
   "metadata": {},
   "source": [
    "#### The LASSO model has a higher MAE (570.68) compared to previous regressions (570.50 and 570.55). This indicates that, on average, LASSO's predictions are less accurate than the others. The MSE (925,245.19) and RMSE (961.90) for LASSO are also higher than those. This suggests that LASSO does not outperform the other models in terms of prediction accuracy."
   ]
  },
  {
   "cell_type": "markdown",
   "id": "bf7ef20e",
   "metadata": {},
   "source": [
    "### Cross Validation"
   ]
  },
  {
   "cell_type": "code",
   "execution_count": 33,
   "id": "5f4757d6",
   "metadata": {},
   "outputs": [
    {
     "data": {
      "text/html": [
       "<style>#sk-container-id-7 {color: black;}#sk-container-id-7 pre{padding: 0;}#sk-container-id-7 div.sk-toggleable {background-color: white;}#sk-container-id-7 label.sk-toggleable__label {cursor: pointer;display: block;width: 100%;margin-bottom: 0;padding: 0.3em;box-sizing: border-box;text-align: center;}#sk-container-id-7 label.sk-toggleable__label-arrow:before {content: \"▸\";float: left;margin-right: 0.25em;color: #696969;}#sk-container-id-7 label.sk-toggleable__label-arrow:hover:before {color: black;}#sk-container-id-7 div.sk-estimator:hover label.sk-toggleable__label-arrow:before {color: black;}#sk-container-id-7 div.sk-toggleable__content {max-height: 0;max-width: 0;overflow: hidden;text-align: left;background-color: #f0f8ff;}#sk-container-id-7 div.sk-toggleable__content pre {margin: 0.2em;color: black;border-radius: 0.25em;background-color: #f0f8ff;}#sk-container-id-7 input.sk-toggleable__control:checked~div.sk-toggleable__content {max-height: 200px;max-width: 100%;overflow: auto;}#sk-container-id-7 input.sk-toggleable__control:checked~label.sk-toggleable__label-arrow:before {content: \"▾\";}#sk-container-id-7 div.sk-estimator input.sk-toggleable__control:checked~label.sk-toggleable__label {background-color: #d4ebff;}#sk-container-id-7 div.sk-label input.sk-toggleable__control:checked~label.sk-toggleable__label {background-color: #d4ebff;}#sk-container-id-7 input.sk-hidden--visually {border: 0;clip: rect(1px 1px 1px 1px);clip: rect(1px, 1px, 1px, 1px);height: 1px;margin: -1px;overflow: hidden;padding: 0;position: absolute;width: 1px;}#sk-container-id-7 div.sk-estimator {font-family: monospace;background-color: #f0f8ff;border: 1px dotted black;border-radius: 0.25em;box-sizing: border-box;margin-bottom: 0.5em;}#sk-container-id-7 div.sk-estimator:hover {background-color: #d4ebff;}#sk-container-id-7 div.sk-parallel-item::after {content: \"\";width: 100%;border-bottom: 1px solid gray;flex-grow: 1;}#sk-container-id-7 div.sk-label:hover label.sk-toggleable__label {background-color: #d4ebff;}#sk-container-id-7 div.sk-serial::before {content: \"\";position: absolute;border-left: 1px solid gray;box-sizing: border-box;top: 0;bottom: 0;left: 50%;z-index: 0;}#sk-container-id-7 div.sk-serial {display: flex;flex-direction: column;align-items: center;background-color: white;padding-right: 0.2em;padding-left: 0.2em;position: relative;}#sk-container-id-7 div.sk-item {position: relative;z-index: 1;}#sk-container-id-7 div.sk-parallel {display: flex;align-items: stretch;justify-content: center;background-color: white;position: relative;}#sk-container-id-7 div.sk-item::before, #sk-container-id-7 div.sk-parallel-item::before {content: \"\";position: absolute;border-left: 1px solid gray;box-sizing: border-box;top: 0;bottom: 0;left: 50%;z-index: -1;}#sk-container-id-7 div.sk-parallel-item {display: flex;flex-direction: column;z-index: 1;position: relative;background-color: white;}#sk-container-id-7 div.sk-parallel-item:first-child::after {align-self: flex-end;width: 50%;}#sk-container-id-7 div.sk-parallel-item:last-child::after {align-self: flex-start;width: 50%;}#sk-container-id-7 div.sk-parallel-item:only-child::after {width: 0;}#sk-container-id-7 div.sk-dashed-wrapped {border: 1px dashed gray;margin: 0 0.4em 0.5em 0.4em;box-sizing: border-box;padding-bottom: 0.4em;background-color: white;}#sk-container-id-7 div.sk-label label {font-family: monospace;font-weight: bold;display: inline-block;line-height: 1.2em;}#sk-container-id-7 div.sk-label-container {text-align: center;}#sk-container-id-7 div.sk-container {/* jupyter's `normalize.less` sets `[hidden] { display: none; }` but bootstrap.min.css set `[hidden] { display: none !important; }` so we also need the `!important` here to be able to override the default hidden behavior on the sphinx rendered scikit-learn.org. See: https://github.com/scikit-learn/scikit-learn/issues/21755 */display: inline-block !important;position: relative;}#sk-container-id-7 div.sk-text-repr-fallback {display: none;}</style><div id=\"sk-container-id-7\" class=\"sk-top-container\"><div class=\"sk-text-repr-fallback\"><pre>Ridge(alpha=100)</pre><b>In a Jupyter environment, please rerun this cell to show the HTML representation or trust the notebook. <br />On GitHub, the HTML representation is unable to render, please try loading this page with nbviewer.org.</b></div><div class=\"sk-container\" hidden><div class=\"sk-item\"><div class=\"sk-estimator sk-toggleable\"><input class=\"sk-toggleable__control sk-hidden--visually\" id=\"sk-estimator-id-7\" type=\"checkbox\" checked><label for=\"sk-estimator-id-7\" class=\"sk-toggleable__label sk-toggleable__label-arrow\">Ridge</label><div class=\"sk-toggleable__content\"><pre>Ridge(alpha=100)</pre></div></div></div></div></div>"
      ],
      "text/plain": [
       "Ridge(alpha=100)"
      ]
     },
     "execution_count": 33,
     "metadata": {},
     "output_type": "execute_result"
    }
   ],
   "source": [
    "X=rent[['type_House', 'beds_8 Beds', 'beds_Studio']]\n",
    "y = rent['price']\n",
    "from sklearn.model_selection import train_test_split\n",
    "\n",
    "# 70% of data for training, set aside other 30% for validation and testing\n",
    "X_train, X_OTHER, y_train, y_OTHER = train_test_split(X, y, test_size=0.3, random_state=1)\n",
    "\n",
    "# Remaining 30% is divided equally into validation (15%) and test (15%) data\n",
    "X_val, X_test, y_val, y_test = train_test_split(X_OTHER, y_OTHER, test_size=0.5, random_state=1)\n",
    "# Scale the features\n",
    "\n",
    "from sklearn.preprocessing import StandardScaler\n",
    "\n",
    "scaler = StandardScaler()\n",
    "scaled_X_train = scaler.fit_transform(X_train)\n",
    "scaled_X_val = scaler.transform(X_val)\n",
    "scaled_X_test = scaler.transform(X_test)\n",
    "from sklearn.linear_model import Ridge\n",
    "\n",
    "bad_model = Ridge(alpha=100)\n",
    "\n",
    "bad_model.fit(scaled_X_train, y_train)"
   ]
  },
  {
   "cell_type": "code",
   "execution_count": 34,
   "id": "9e9a410e",
   "metadata": {},
   "outputs": [
    {
     "data": {
      "text/plain": [
       "(578.8132529537086, 945602.5707981962, 972.4209843469012)"
      ]
     },
     "execution_count": 34,
     "metadata": {},
     "output_type": "execute_result"
    }
   ],
   "source": [
    "y_val_preds = bad_model.predict(scaled_X_val)\n",
    "from sklearn.metrics import mean_squared_error\n",
    "\n",
    "from sklearn.metrics import mean_absolute_error,mean_squared_error\n",
    "\n",
    "# Obtain metrics\n",
    "MAE = mean_absolute_error(y_val, y_val_preds)\n",
    "MSE = mean_squared_error(y_val, y_val_preds)\n",
    "RMSE = np.sqrt(MSE)\n",
    "\n",
    "MAE, MSE, RMSE"
   ]
  },
  {
   "cell_type": "code",
   "execution_count": 35,
   "id": "111c0a79",
   "metadata": {},
   "outputs": [
    {
     "data": {
      "text/html": [
       "<style>#sk-container-id-8 {color: black;}#sk-container-id-8 pre{padding: 0;}#sk-container-id-8 div.sk-toggleable {background-color: white;}#sk-container-id-8 label.sk-toggleable__label {cursor: pointer;display: block;width: 100%;margin-bottom: 0;padding: 0.3em;box-sizing: border-box;text-align: center;}#sk-container-id-8 label.sk-toggleable__label-arrow:before {content: \"▸\";float: left;margin-right: 0.25em;color: #696969;}#sk-container-id-8 label.sk-toggleable__label-arrow:hover:before {color: black;}#sk-container-id-8 div.sk-estimator:hover label.sk-toggleable__label-arrow:before {color: black;}#sk-container-id-8 div.sk-toggleable__content {max-height: 0;max-width: 0;overflow: hidden;text-align: left;background-color: #f0f8ff;}#sk-container-id-8 div.sk-toggleable__content pre {margin: 0.2em;color: black;border-radius: 0.25em;background-color: #f0f8ff;}#sk-container-id-8 input.sk-toggleable__control:checked~div.sk-toggleable__content {max-height: 200px;max-width: 100%;overflow: auto;}#sk-container-id-8 input.sk-toggleable__control:checked~label.sk-toggleable__label-arrow:before {content: \"▾\";}#sk-container-id-8 div.sk-estimator input.sk-toggleable__control:checked~label.sk-toggleable__label {background-color: #d4ebff;}#sk-container-id-8 div.sk-label input.sk-toggleable__control:checked~label.sk-toggleable__label {background-color: #d4ebff;}#sk-container-id-8 input.sk-hidden--visually {border: 0;clip: rect(1px 1px 1px 1px);clip: rect(1px, 1px, 1px, 1px);height: 1px;margin: -1px;overflow: hidden;padding: 0;position: absolute;width: 1px;}#sk-container-id-8 div.sk-estimator {font-family: monospace;background-color: #f0f8ff;border: 1px dotted black;border-radius: 0.25em;box-sizing: border-box;margin-bottom: 0.5em;}#sk-container-id-8 div.sk-estimator:hover {background-color: #d4ebff;}#sk-container-id-8 div.sk-parallel-item::after {content: \"\";width: 100%;border-bottom: 1px solid gray;flex-grow: 1;}#sk-container-id-8 div.sk-label:hover label.sk-toggleable__label {background-color: #d4ebff;}#sk-container-id-8 div.sk-serial::before {content: \"\";position: absolute;border-left: 1px solid gray;box-sizing: border-box;top: 0;bottom: 0;left: 50%;z-index: 0;}#sk-container-id-8 div.sk-serial {display: flex;flex-direction: column;align-items: center;background-color: white;padding-right: 0.2em;padding-left: 0.2em;position: relative;}#sk-container-id-8 div.sk-item {position: relative;z-index: 1;}#sk-container-id-8 div.sk-parallel {display: flex;align-items: stretch;justify-content: center;background-color: white;position: relative;}#sk-container-id-8 div.sk-item::before, #sk-container-id-8 div.sk-parallel-item::before {content: \"\";position: absolute;border-left: 1px solid gray;box-sizing: border-box;top: 0;bottom: 0;left: 50%;z-index: -1;}#sk-container-id-8 div.sk-parallel-item {display: flex;flex-direction: column;z-index: 1;position: relative;background-color: white;}#sk-container-id-8 div.sk-parallel-item:first-child::after {align-self: flex-end;width: 50%;}#sk-container-id-8 div.sk-parallel-item:last-child::after {align-self: flex-start;width: 50%;}#sk-container-id-8 div.sk-parallel-item:only-child::after {width: 0;}#sk-container-id-8 div.sk-dashed-wrapped {border: 1px dashed gray;margin: 0 0.4em 0.5em 0.4em;box-sizing: border-box;padding-bottom: 0.4em;background-color: white;}#sk-container-id-8 div.sk-label label {font-family: monospace;font-weight: bold;display: inline-block;line-height: 1.2em;}#sk-container-id-8 div.sk-label-container {text-align: center;}#sk-container-id-8 div.sk-container {/* jupyter's `normalize.less` sets `[hidden] { display: none; }` but bootstrap.min.css set `[hidden] { display: none !important; }` so we also need the `!important` here to be able to override the default hidden behavior on the sphinx rendered scikit-learn.org. See: https://github.com/scikit-learn/scikit-learn/issues/21755 */display: inline-block !important;position: relative;}#sk-container-id-8 div.sk-text-repr-fallback {display: none;}</style><div id=\"sk-container-id-8\" class=\"sk-top-container\"><div class=\"sk-text-repr-fallback\"><pre>Ridge(alpha=1)</pre><b>In a Jupyter environment, please rerun this cell to show the HTML representation or trust the notebook. <br />On GitHub, the HTML representation is unable to render, please try loading this page with nbviewer.org.</b></div><div class=\"sk-container\" hidden><div class=\"sk-item\"><div class=\"sk-estimator sk-toggleable\"><input class=\"sk-toggleable__control sk-hidden--visually\" id=\"sk-estimator-id-8\" type=\"checkbox\" checked><label for=\"sk-estimator-id-8\" class=\"sk-toggleable__label sk-toggleable__label-arrow\">Ridge</label><div class=\"sk-toggleable__content\"><pre>Ridge(alpha=1)</pre></div></div></div></div></div>"
      ],
      "text/plain": [
       "Ridge(alpha=1)"
      ]
     },
     "execution_count": 35,
     "metadata": {},
     "output_type": "execute_result"
    }
   ],
   "source": [
    "model2 = Ridge(alpha=1)\n",
    "\n",
    "model2.fit(scaled_X_train, y_train)"
   ]
  },
  {
   "cell_type": "code",
   "execution_count": 36,
   "id": "4249ed39",
   "metadata": {},
   "outputs": [
    {
     "data": {
      "text/plain": [
       "(578.8221992056642, 944786.9849462686, 972.0015354649747)"
      ]
     },
     "execution_count": 36,
     "metadata": {},
     "output_type": "execute_result"
    }
   ],
   "source": [
    "model2_preds = model2.predict(scaled_X_val)\n",
    "\n",
    "# Obtain metrics\n",
    "MAE = mean_absolute_error(y_val, model2_preds)\n",
    "MSE = mean_squared_error(y_val, model2_preds)\n",
    "RMSE = np.sqrt(MSE)\n",
    "\n",
    "MAE, MSE, RMSE"
   ]
  },
  {
   "cell_type": "code",
   "execution_count": 37,
   "id": "34466c05",
   "metadata": {},
   "outputs": [
    {
     "data": {
      "text/plain": [
       "(546.4280684110939, 600828.0047404444, 775.1309597354788)"
      ]
     },
     "execution_count": 37,
     "metadata": {},
     "output_type": "execute_result"
    }
   ],
   "source": [
    "# Final Evaluation\n",
    "final_preds = model2.predict(scaled_X_test)\n",
    "\n",
    "# Obtain metrics\n",
    "MAE = mean_absolute_error(y_test, final_preds)\n",
    "MSE = mean_squared_error(y_test, final_preds)\n",
    "RMSE = np.sqrt(MSE)\n",
    "\n",
    "MAE, MSE, RMSE"
   ]
  },
  {
   "cell_type": "code",
   "execution_count": 38,
   "id": "d7dfa6cc",
   "metadata": {},
   "outputs": [
    {
     "data": {
      "text/plain": [
       "633923.8235840821"
      ]
     },
     "execution_count": 38,
     "metadata": {},
     "output_type": "execute_result"
    }
   ],
   "source": [
    "# Standard train-test split\n",
    "X_train, X_test, y_train, y_test = train_test_split(X, y, test_size=0.15, random_state=1)\n",
    "\n",
    "# Scale data\n",
    "scaler = StandardScaler()\n",
    "scaled_X_train = scaler.fit_transform(X_train)\n",
    "scaled_X_test = scaler.transform(X_test)\n",
    "\n",
    "# Bad alpha choice on purpose\n",
    "model = Ridge(alpha=100)\n",
    "\n",
    "# Import cross_val_score\n",
    "from sklearn.model_selection import cross_val_score\n",
    "scores = cross_val_score(model, scaled_X_train, y_train, scoring='neg_mean_squared_error',cv=5)\n",
    "\n",
    "\n",
    "#Adjust Model\n",
    "model = Ridge(alpha=1)\n",
    "\n",
    "scores = cross_val_score(model, scaled_X_train, y_train, scoring='neg_mean_squared_error',cv=5)\n",
    "\n",
    "abs(scores.mean())"
   ]
  },
  {
   "cell_type": "code",
   "execution_count": 39,
   "id": "47c5f6e2",
   "metadata": {},
   "outputs": [
    {
     "data": {
      "text/html": [
       "<style>#sk-container-id-9 {color: black;}#sk-container-id-9 pre{padding: 0;}#sk-container-id-9 div.sk-toggleable {background-color: white;}#sk-container-id-9 label.sk-toggleable__label {cursor: pointer;display: block;width: 100%;margin-bottom: 0;padding: 0.3em;box-sizing: border-box;text-align: center;}#sk-container-id-9 label.sk-toggleable__label-arrow:before {content: \"▸\";float: left;margin-right: 0.25em;color: #696969;}#sk-container-id-9 label.sk-toggleable__label-arrow:hover:before {color: black;}#sk-container-id-9 div.sk-estimator:hover label.sk-toggleable__label-arrow:before {color: black;}#sk-container-id-9 div.sk-toggleable__content {max-height: 0;max-width: 0;overflow: hidden;text-align: left;background-color: #f0f8ff;}#sk-container-id-9 div.sk-toggleable__content pre {margin: 0.2em;color: black;border-radius: 0.25em;background-color: #f0f8ff;}#sk-container-id-9 input.sk-toggleable__control:checked~div.sk-toggleable__content {max-height: 200px;max-width: 100%;overflow: auto;}#sk-container-id-9 input.sk-toggleable__control:checked~label.sk-toggleable__label-arrow:before {content: \"▾\";}#sk-container-id-9 div.sk-estimator input.sk-toggleable__control:checked~label.sk-toggleable__label {background-color: #d4ebff;}#sk-container-id-9 div.sk-label input.sk-toggleable__control:checked~label.sk-toggleable__label {background-color: #d4ebff;}#sk-container-id-9 input.sk-hidden--visually {border: 0;clip: rect(1px 1px 1px 1px);clip: rect(1px, 1px, 1px, 1px);height: 1px;margin: -1px;overflow: hidden;padding: 0;position: absolute;width: 1px;}#sk-container-id-9 div.sk-estimator {font-family: monospace;background-color: #f0f8ff;border: 1px dotted black;border-radius: 0.25em;box-sizing: border-box;margin-bottom: 0.5em;}#sk-container-id-9 div.sk-estimator:hover {background-color: #d4ebff;}#sk-container-id-9 div.sk-parallel-item::after {content: \"\";width: 100%;border-bottom: 1px solid gray;flex-grow: 1;}#sk-container-id-9 div.sk-label:hover label.sk-toggleable__label {background-color: #d4ebff;}#sk-container-id-9 div.sk-serial::before {content: \"\";position: absolute;border-left: 1px solid gray;box-sizing: border-box;top: 0;bottom: 0;left: 50%;z-index: 0;}#sk-container-id-9 div.sk-serial {display: flex;flex-direction: column;align-items: center;background-color: white;padding-right: 0.2em;padding-left: 0.2em;position: relative;}#sk-container-id-9 div.sk-item {position: relative;z-index: 1;}#sk-container-id-9 div.sk-parallel {display: flex;align-items: stretch;justify-content: center;background-color: white;position: relative;}#sk-container-id-9 div.sk-item::before, #sk-container-id-9 div.sk-parallel-item::before {content: \"\";position: absolute;border-left: 1px solid gray;box-sizing: border-box;top: 0;bottom: 0;left: 50%;z-index: -1;}#sk-container-id-9 div.sk-parallel-item {display: flex;flex-direction: column;z-index: 1;position: relative;background-color: white;}#sk-container-id-9 div.sk-parallel-item:first-child::after {align-self: flex-end;width: 50%;}#sk-container-id-9 div.sk-parallel-item:last-child::after {align-self: flex-start;width: 50%;}#sk-container-id-9 div.sk-parallel-item:only-child::after {width: 0;}#sk-container-id-9 div.sk-dashed-wrapped {border: 1px dashed gray;margin: 0 0.4em 0.5em 0.4em;box-sizing: border-box;padding-bottom: 0.4em;background-color: white;}#sk-container-id-9 div.sk-label label {font-family: monospace;font-weight: bold;display: inline-block;line-height: 1.2em;}#sk-container-id-9 div.sk-label-container {text-align: center;}#sk-container-id-9 div.sk-container {/* jupyter's `normalize.less` sets `[hidden] { display: none; }` but bootstrap.min.css set `[hidden] { display: none !important; }` so we also need the `!important` here to be able to override the default hidden behavior on the sphinx rendered scikit-learn.org. See: https://github.com/scikit-learn/scikit-learn/issues/21755 */display: inline-block !important;position: relative;}#sk-container-id-9 div.sk-text-repr-fallback {display: none;}</style><div id=\"sk-container-id-9\" class=\"sk-top-container\"><div class=\"sk-text-repr-fallback\"><pre>Ridge(alpha=1)</pre><b>In a Jupyter environment, please rerun this cell to show the HTML representation or trust the notebook. <br />On GitHub, the HTML representation is unable to render, please try loading this page with nbviewer.org.</b></div><div class=\"sk-container\" hidden><div class=\"sk-item\"><div class=\"sk-estimator sk-toggleable\"><input class=\"sk-toggleable__control sk-hidden--visually\" id=\"sk-estimator-id-9\" type=\"checkbox\" checked><label for=\"sk-estimator-id-9\" class=\"sk-toggleable__label sk-toggleable__label-arrow\">Ridge</label><div class=\"sk-toggleable__content\"><pre>Ridge(alpha=1)</pre></div></div></div></div></div>"
      ],
      "text/plain": [
       "Ridge(alpha=1)"
      ]
     },
     "execution_count": 39,
     "metadata": {},
     "output_type": "execute_result"
    }
   ],
   "source": [
    "model.fit(scaled_X_train, y_train)"
   ]
  },
  {
   "cell_type": "code",
   "execution_count": 40,
   "id": "9465834e",
   "metadata": {},
   "outputs": [
    {
     "data": {
      "text/plain": [
       "(570.5504844268005, 915530.5001842962, 956.8335801926562)"
      ]
     },
     "execution_count": 40,
     "metadata": {},
     "output_type": "execute_result"
    }
   ],
   "source": [
    "final_y = model.predict(scaled_X_test)\n",
    "\n",
    "# Obtain metrics\n",
    "MAE = mean_absolute_error(y_test, final_y)\n",
    "MSE = mean_squared_error(y_test, final_y)\n",
    "RMSE = np.sqrt(MSE)\n",
    "\n",
    "MAE, MSE, RMSE"
   ]
  },
  {
   "cell_type": "code",
   "execution_count": 41,
   "id": "a2e1d557",
   "metadata": {},
   "outputs": [
    {
     "data": {
      "text/plain": [
       "fit_time                             0.001751\n",
       "score_time                           0.001419\n",
       "test_neg_mean_absolute_error      -555.371386\n",
       "test_neg_mean_squared_error    -633923.823584\n",
       "test_max_error                   -8867.968349\n",
       "dtype: float64"
      ]
     },
     "execution_count": 41,
     "metadata": {},
     "output_type": "execute_result"
    }
   ],
   "source": [
    "# Standard train-test split\n",
    "X_train, X_test, y_train, y_test = train_test_split(X, y, test_size=0.15, random_state=1)\n",
    "\n",
    "# Scale data\n",
    "scaler = StandardScaler()\n",
    "scaled_X_train = scaler.fit_transform(X_train)\n",
    "scaled_X_test = scaler.transform(X_test)\n",
    "# Bad alpha choice\n",
    "model = Ridge(alpha=100)\n",
    "# Import cross_validate\n",
    "from sklearn.model_selection import cross_validate\n",
    "\n",
    "# Select multiple evaluation metrics\n",
    "scores = cross_validate(model, scaled_X_train, y_train,\n",
    "                         scoring=['neg_mean_absolute_error','neg_mean_squared_error','max_error'],cv=5)\n",
    "model = Ridge(alpha=1)\n",
    "# Select multiple evaluation metrics\n",
    "scores = cross_validate(model, scaled_X_train, y_train,\n",
    "                         scoring=['neg_mean_absolute_error','neg_mean_squared_error','max_error'],cv=5)\n",
    "\n",
    "pd.DataFrame(scores).mean()"
   ]
  },
  {
   "cell_type": "code",
   "execution_count": 54,
   "id": "29db4b4a",
   "metadata": {},
   "outputs": [
    {
     "data": {
      "text/plain": [
       "(570.5504844268005, 915530.5001842962, 956.8335801926562)"
      ]
     },
     "execution_count": 54,
     "metadata": {},
     "output_type": "execute_result"
    }
   ],
   "source": [
    "model.fit(scaled_X_train , y_train)\n",
    "final_y = model.predict(scaled_X_test)\n",
    "\n",
    "# Obtain metrics\n",
    "MAE = mean_absolute_error(y_test, final_y)\n",
    "MSE = mean_squared_error(y_test, final_y)\n",
    "RMSE = np.sqrt(MSE)\n",
    "\n",
    "MAE, MSE, RMSE"
   ]
  },
  {
   "cell_type": "markdown",
   "id": "3162db47",
   "metadata": {},
   "source": [
    "#### The MAE, MSE, and RMSE from the test set are slightly higher than the values from cross-validation, which is expected as the model is now being evaluated on unseen data. This indicates that the model is generalizing fairly well. \n",
    "#### The MAE suggests that, on average, the predictions deviate from the actual values by approximately 570.55. The RMSE, at about 956.83, indicates that there are instances where predictions can be significantly off."
   ]
  },
  {
   "cell_type": "markdown",
   "id": "c6cd3671",
   "metadata": {},
   "source": [
    "### Conclusion:\n",
    "\n",
    "#### The Ridge regression model performs reasonably well with the current parameters. The results are consistent, showing that the model can predict rental prices with an acceptable level of accuracy."
   ]
  },
  {
   "cell_type": "code",
   "execution_count": null,
   "id": "1f2a2261",
   "metadata": {},
   "outputs": [],
   "source": []
  }
 ],
 "metadata": {
  "kernelspec": {
   "display_name": "Python 3 (ipykernel)",
   "language": "python",
   "name": "python3"
  },
  "language_info": {
   "codemirror_mode": {
    "name": "ipython",
    "version": 3
   },
   "file_extension": ".py",
   "mimetype": "text/x-python",
   "name": "python",
   "nbconvert_exporter": "python",
   "pygments_lexer": "ipython3",
   "version": "3.11.5"
  }
 },
 "nbformat": 4,
 "nbformat_minor": 5
}
